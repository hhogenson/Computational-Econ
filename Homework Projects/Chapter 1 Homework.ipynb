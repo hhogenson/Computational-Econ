{
 "cells": [
  {
   "cell_type": "code",
   "execution_count": 1,
   "id": "c45f726d",
   "metadata": {},
   "outputs": [],
   "source": [
    "# 1. Record your name in an object (x = ...) and a description of yourself in another object. \n",
    "x = \"Hayden Hogenson\"\n",
    "y = \"A student in the Master's Program\""
   ]
  },
  {
   "cell_type": "code",
   "execution_count": 3,
   "id": "334ab28b",
   "metadata": {},
   "outputs": [],
   "source": [
    "# 2. Raise 2 to the 4th power. Save the value as an object named twoToTheFourth. Then create a new value that sums the value twice. Create another variable that saves the value of twoToTheFourth as a string. Just as with the numeric value, sum the string object twice.\n",
    "twoToTheFourth = 2 ** 4\n",
    "sumTwice = twoToTheFourth + twoToTheFourth\n",
    "string = str(twoToTheFourth)\n",
    "addTwice = string + string"
   ]
  },
  {
   "cell_type": "code",
   "execution_count": 4,
   "id": "6b842ac1",
   "metadata": {},
   "outputs": [
    {
     "name": "stdout",
     "output_type": "stream",
     "text": [
      "\t\"\n",
      "\\\n"
     ]
    }
   ],
   "source": [
    "# 3. Find the list of escape sequences in Section 2.4. create a string that uses at least 4 different escape sequences.\n",
    "string2 = \"\\t\\\"\\n\\\\\"\n",
    "print(string2)"
   ]
  },
  {
   "cell_type": "code",
   "execution_count": null,
   "id": "2a4f6df3",
   "metadata": {},
   "outputs": [],
   "source": []
  }
 ],
 "metadata": {
  "kernelspec": {
   "display_name": "Python 3 (ipykernel)",
   "language": "python",
   "name": "python3"
  },
  "language_info": {
   "codemirror_mode": {
    "name": "ipython",
    "version": 3
   },
   "file_extension": ".py",
   "mimetype": "text/x-python",
   "name": "python",
   "nbconvert_exporter": "python",
   "pygments_lexer": "ipython3",
   "version": "3.9.13"
  }
 },
 "nbformat": 4,
 "nbformat_minor": 5
}
