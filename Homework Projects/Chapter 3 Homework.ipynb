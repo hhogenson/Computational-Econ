{
 "cells": [
  {
   "cell_type": "markdown",
   "id": "6790546e",
   "metadata": {},
   "source": [
    "# Homework"
   ]
  },
  {
   "cell_type": "markdown",
   "id": "68da5a6b",
   "metadata": {},
   "source": [
    "### 1. Create a dictionary with the same structure as the dictionary we created in the in class project for 10 professionals or specialists that you admire. The dictionary should include keys that identify the name of the professional, their area of expertise, a short biography, and a link to their website (or social media profile if no website is available). Print the dataframe and save this dataframe as a csv."
   ]
  },
  {
   "cell_type": "code",
   "execution_count": 2,
   "id": "ec6f23ba",
   "metadata": {},
   "outputs": [
    {
     "data": {
      "text/plain": [
       "''"
      ]
     },
     "execution_count": 2,
     "metadata": {},
     "output_type": "execute_result"
    }
   ],
   "source": [
    "base_dict = {\"Website\":\"\",\n",
    "            \"Area of Expertise\":\"\",\n",
    "            \"Bio\":\"\"}\n",
    "faculty_dict = {\"Sam Peltzman\":base_dict}\n"
   ]
  },
  {
   "cell_type": "code",
   "execution_count": null,
   "id": "cfe9e5a6",
   "metadata": {},
   "outputs": [],
   "source": []
  }
 ],
 "metadata": {
  "kernelspec": {
   "display_name": "Python 3 (ipykernel)",
   "language": "python",
   "name": "python3"
  },
  "language_info": {
   "codemirror_mode": {
    "name": "ipython",
    "version": 3
   },
   "file_extension": ".py",
   "mimetype": "text/x-python",
   "name": "python",
   "nbconvert_exporter": "python",
   "pygments_lexer": "ipython3",
   "version": "3.9.13"
  }
 },
 "nbformat": 4,
 "nbformat_minor": 5
}
