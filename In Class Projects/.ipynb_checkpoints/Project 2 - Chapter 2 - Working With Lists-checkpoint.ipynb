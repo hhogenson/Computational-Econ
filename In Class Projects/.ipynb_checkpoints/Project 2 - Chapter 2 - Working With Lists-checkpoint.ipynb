{
 "cells": [
  {
   "cell_type": "markdown",
   "id": "7cfc5ead",
   "metadata": {},
   "source": [
    "# Project 2 - Working with Lists"
   ]
  },
  {
   "cell_type": "code",
   "execution_count": 1,
   "id": "68c9059a",
   "metadata": {},
   "outputs": [
    {
     "name": "stdout",
     "output_type": "stream",
     "text": [
      "[]\n",
      "[1, 2, 3, 4, 5]\n",
      "[1.0, 2.0, 3.0, 4.0, 5.0]\n",
      "['Many words', 'impoverished meaning']\n",
      "[1, 2.0, 'Mix it up']\n"
     ]
    }
   ],
   "source": [
    "#lists.py\n",
    "empty_list = []\n",
    "int_list = [1,2,3,4,5]\n",
    "float_list = [1.0,2.0,3.0,4.0,5.0]\n",
    "string_list = [\"Many words\", \"impoverished meaning\"]\n",
    "mixed_list = [1,2.0,\"Mix it up\"]\n",
    "\n",
    "print(empty_list)\n",
    "print(int_list)\n",
    "print(float_list)\n",
    "print(string_list)\n",
    "print(mixed_list)"
   ]
  },
  {
   "cell_type": "code",
   "execution_count": 3,
   "id": "f1dae3c1",
   "metadata": {},
   "outputs": [
    {
     "data": {
      "text/plain": [
       "(list, list, list, list, list)"
      ]
     },
     "execution_count": 3,
     "metadata": {},
     "output_type": "execute_result"
    }
   ],
   "source": [
    "type(empty_list), type(int_list), type(float_list), type(string_list), type(mixed_list)"
   ]
  },
  {
   "cell_type": "markdown",
   "id": "b36117c2",
   "metadata": {},
   "source": [
    "## Concatenating Lists"
   ]
  },
  {
   "cell_type": "code",
   "execution_count": 5,
   "id": "9410bffa",
   "metadata": {},
   "outputs": [
    {
     "data": {
      "text/plain": [
       "[1, 2, 3, 4, 5, 1.0, 2.0, 3.0, 4.0, 5.0]"
      ]
     },
     "execution_count": 5,
     "metadata": {},
     "output_type": "execute_result"
    }
   ],
   "source": [
    "int_list + float_list"
   ]
  },
  {
   "cell_type": "code",
   "execution_count": 6,
   "id": "156d70d1",
   "metadata": {},
   "outputs": [
    {
     "data": {
      "text/plain": [
       "[1, 2]"
      ]
     },
     "execution_count": 6,
     "metadata": {},
     "output_type": "execute_result"
    }
   ],
   "source": [
    "[1] + [2]"
   ]
  },
  {
   "cell_type": "code",
   "execution_count": 7,
   "id": "c8cc0bc0",
   "metadata": {},
   "outputs": [
    {
     "data": {
      "text/plain": [
       "[1, 2]"
      ]
     },
     "execution_count": 7,
     "metadata": {},
     "output_type": "execute_result"
    }
   ],
   "source": [
    "list1 = [1]\n",
    "list2 = [2]\n",
    "join_lists = list1 + list2\n",
    "join_lists"
   ]
  },
  {
   "cell_type": "code",
   "execution_count": 8,
   "id": "0da06aa1",
   "metadata": {},
   "outputs": [
    {
     "data": {
      "text/plain": [
       "'12'"
      ]
     },
     "execution_count": 8,
     "metadata": {},
     "output_type": "execute_result"
    }
   ],
   "source": [
    "# similar to concatenating strings\n",
    "\n",
    "str1 = \"1\"\n",
    "str2 = \"2\"\n",
    "join_strs = str1 + str2\n",
    "join_strs"
   ]
  },
  {
   "cell_type": "markdown",
   "id": "975649c2",
   "metadata": {},
   "source": [
    "# For Loops and range()"
   ]
  },
  {
   "cell_type": "markdown",
   "id": "986e6da6",
   "metadata": {},
   "source": [
    "### a for loop using in rage() will cycle through variable i from j to k by increments of variable l\n",
    "for i in range(j, k, l):\n",
    "    execute script\n",
    "    \n",
    "| New Concepts | Description |\n",
    "| --- | --- |\n",
    "| _list(obj)_ | List transforms an iterable object, such as a tuple or set, into a dynamic list. |\n",
    "| _range(j, k , l)_ | Identifies a range of integers from _j&nbsp;_ to _k–1_ separated by some interval _l_. |\n",
    "|_len(obj)_ | Measure the length of an iterable object. |"
   ]
  },
  {
   "cell_type": "code",
   "execution_count": 9,
   "id": "73e15a52",
   "metadata": {},
   "outputs": [
    {
     "name": "stdout",
     "output_type": "stream",
     "text": [
      "1\n",
      "2\n",
      "3\n",
      "4\n",
      "5\n",
      "6\n",
      "7\n",
      "8\n",
      "9\n",
      "10\n"
     ]
    }
   ],
   "source": [
    "for i in range(1,11):\n",
    "    print(i)"
   ]
  },
  {
   "cell_type": "code",
   "execution_count": 11,
   "id": "791283aa",
   "metadata": {},
   "outputs": [
    {
     "name": "stdout",
     "output_type": "stream",
     "text": [
      "5050\n"
     ]
    }
   ],
   "source": [
    "total = 0\n",
    "for i in range(1, 101):\n",
    "    total = total + i\n",
    "    print(i, total)"
   ]
  },
  {
   "cell_type": "code",
   "execution_count": 15,
   "id": "986606d2",
   "metadata": {},
   "outputs": [
    {
     "name": "stdout",
     "output_type": "stream",
     "text": [
      "543\n",
      "342\n",
      "6\n",
      "435\n",
      "543\n",
      "4 False\n",
      "3 False\n",
      "2 False\n",
      "l False\n",
      "k True\n",
      "n False\n",
      "1 False\n",
      "5 False\n",
      "6 False\n",
      "4 False\n",
      "4 False\n",
      "2 False\n",
      "i False\n",
      "b False\n",
      "3 False\n",
      "3 False\n",
      "1 False\n",
      "1 False\n",
      "l False\n",
      "; False\n",
      "k True\n",
      "n False\n",
      "p False\n",
      "k True\n",
      "5 False\n",
      "6 False\n",
      "2 False\n",
      "1 False\n",
      "3 False\n",
      "2 False\n",
      "1 False\n"
     ]
    }
   ],
   "source": [
    "list1 = [543,342,6,435,543]\n",
    "str1 = \"432lkn156442ib3311l;knpk5621321\"\n",
    "\n",
    "for val in list1:\n",
    "    print(val)\n",
    "    \n",
    "for string in str1:\n",
    "    print(string, string==\"k\")"
   ]
  },
  {
   "cell_type": "code",
   "execution_count": 17,
   "id": "62a6673e",
   "metadata": {},
   "outputs": [
    {
     "name": "stdout",
     "output_type": "stream",
     "text": [
      "1\n",
      "4\n",
      "9\n",
      "16\n",
      "25\n",
      "36\n",
      "49\n",
      "64\n",
      "81\n",
      "100\n",
      "121\n",
      "144\n",
      "169\n",
      "196\n",
      "225\n",
      "256\n",
      "289\n",
      "324\n",
      "361\n",
      "400\n",
      "441\n",
      "484\n",
      "529\n",
      "576\n",
      "625\n",
      "676\n",
      "729\n",
      "784\n",
      "841\n",
      "900\n",
      "961\n",
      "1024\n",
      "1089\n",
      "1156\n",
      "1225\n",
      "1296\n",
      "1369\n",
      "1444\n",
      "1521\n",
      "1600\n",
      "1681\n",
      "1764\n",
      "1849\n",
      "1936\n",
      "2025\n",
      "2116\n",
      "2209\n",
      "2304\n",
      "2401\n",
      "2500\n"
     ]
    }
   ],
   "source": [
    "total = 0\n",
    "for i in range(1,101,2):\n",
    "    total = total + i\n",
    "    print(total)"
   ]
  },
  {
   "cell_type": "code",
   "execution_count": null,
   "id": "a800b50e",
   "metadata": {},
   "outputs": [],
   "source": []
  }
 ],
 "metadata": {
  "kernelspec": {
   "display_name": "Python 3 (ipykernel)",
   "language": "python",
   "name": "python3"
  },
  "language_info": {
   "codemirror_mode": {
    "name": "ipython",
    "version": 3
   },
   "file_extension": ".py",
   "mimetype": "text/x-python",
   "name": "python",
   "nbconvert_exporter": "python",
   "pygments_lexer": "ipython3",
   "version": "3.9.13"
  }
 },
 "nbformat": 4,
 "nbformat_minor": 5
}
