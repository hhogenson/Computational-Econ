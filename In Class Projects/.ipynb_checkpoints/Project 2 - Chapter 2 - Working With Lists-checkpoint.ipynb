{
 "cells": [
  {
   "cell_type": "markdown",
   "id": "7cfc5ead",
   "metadata": {},
   "source": [
    "# Project 2 - Working with Lists"
   ]
  },
  {
   "cell_type": "code",
   "execution_count": 1,
   "id": "68c9059a",
   "metadata": {},
   "outputs": [
    {
     "name": "stdout",
     "output_type": "stream",
     "text": [
      "[]\n",
      "[1, 2, 3, 4, 5]\n",
      "[1.0, 2.0, 3.0, 4.0, 5.0]\n",
      "['Many words', 'impoverished meaning']\n",
      "[1, 2.0, 'Mix it up']\n"
     ]
    }
   ],
   "source": [
    "#lists.py\n",
    "empty_list = []\n",
    "int_list = [1,2,3,4,5]\n",
    "float_list = [1.0,2.0,3.0,4.0,5.0]\n",
    "string_list = [\"Many words\", \"impoverished meaning\"]\n",
    "mixed_list = [1,2.0,\"Mix it up\"]\n",
    "\n",
    "print(empty_list)\n",
    "print(int_list)\n",
    "print(float_list)\n",
    "print(string_list)\n",
    "print(mixed_list)"
   ]
  },
  {
   "cell_type": "code",
   "execution_count": 2,
   "id": "f1dae3c1",
   "metadata": {},
   "outputs": [
    {
     "data": {
      "text/plain": [
       "(list, list, list, list, list)"
      ]
     },
     "execution_count": 2,
     "metadata": {},
     "output_type": "execute_result"
    }
   ],
   "source": [
    "type(empty_list), type(int_list), type(float_list), type(string_list), type(mixed_list)"
   ]
  },
  {
   "cell_type": "markdown",
   "id": "b36117c2",
   "metadata": {},
   "source": [
    "## Concatenating Lists"
   ]
  },
  {
   "cell_type": "code",
   "execution_count": 3,
   "id": "9410bffa",
   "metadata": {},
   "outputs": [
    {
     "data": {
      "text/plain": [
       "[1, 2, 3, 4, 5, 1.0, 2.0, 3.0, 4.0, 5.0]"
      ]
     },
     "execution_count": 3,
     "metadata": {},
     "output_type": "execute_result"
    }
   ],
   "source": [
    "int_list + float_list"
   ]
  },
  {
   "cell_type": "code",
   "execution_count": 4,
   "id": "156d70d1",
   "metadata": {},
   "outputs": [
    {
     "data": {
      "text/plain": [
       "[1, 2]"
      ]
     },
     "execution_count": 4,
     "metadata": {},
     "output_type": "execute_result"
    }
   ],
   "source": [
    "[1] + [2]"
   ]
  },
  {
   "cell_type": "code",
   "execution_count": 5,
   "id": "c8cc0bc0",
   "metadata": {},
   "outputs": [
    {
     "data": {
      "text/plain": [
       "[1, 2]"
      ]
     },
     "execution_count": 5,
     "metadata": {},
     "output_type": "execute_result"
    }
   ],
   "source": [
    "list1 = [1]\n",
    "list2 = [2]\n",
    "join_lists = list1 + list2\n",
    "join_lists"
   ]
  },
  {
   "cell_type": "code",
   "execution_count": 6,
   "id": "0da06aa1",
   "metadata": {},
   "outputs": [
    {
     "data": {
      "text/plain": [
       "'12'"
      ]
     },
     "execution_count": 6,
     "metadata": {},
     "output_type": "execute_result"
    }
   ],
   "source": [
    "# similar to concatenating strings\n",
    "\n",
    "str1 = \"1\"\n",
    "str2 = \"2\"\n",
    "join_strs = str1 + str2\n",
    "join_strs"
   ]
  },
  {
   "cell_type": "markdown",
   "id": "975649c2",
   "metadata": {},
   "source": [
    "# For Loops and range()"
   ]
  },
  {
   "cell_type": "markdown",
   "id": "986e6da6",
   "metadata": {},
   "source": [
    "### a for loop using in rage() will iterate through variable i from j to k by increments of variable l\n",
    "for i in range(j, k, l):\n",
    "    \n",
    "    \n",
    "| New Concepts | Description |\n",
    "| --- | --- |\n",
    "| _list(obj)_ | List transforms an iterable object, such as a tuple or set, into a dynamic list. |\n",
    "| _range(j, k , l)_ | Identifies a range of integers from _j&nbsp;_ to _k–1_ separated by some interval _l_. |\n",
    "|_len(obj)_ | Measure the length of an iterable object. |"
   ]
  },
  {
   "cell_type": "code",
   "execution_count": 7,
   "id": "73e15a52",
   "metadata": {},
   "outputs": [
    {
     "name": "stdout",
     "output_type": "stream",
     "text": [
      "1\n",
      "2\n",
      "3\n",
      "4\n",
      "5\n",
      "6\n",
      "7\n",
      "8\n",
      "9\n",
      "10\n"
     ]
    }
   ],
   "source": [
    "for i in range(1,11):\n",
    "    print(i)"
   ]
  },
  {
   "cell_type": "code",
   "execution_count": 8,
   "id": "791283aa",
   "metadata": {},
   "outputs": [
    {
     "name": "stdout",
     "output_type": "stream",
     "text": [
      "1 1\n",
      "2 3\n",
      "3 6\n",
      "4 10\n",
      "5 15\n",
      "6 21\n",
      "7 28\n",
      "8 36\n",
      "9 45\n",
      "10 55\n",
      "11 66\n",
      "12 78\n",
      "13 91\n",
      "14 105\n",
      "15 120\n",
      "16 136\n",
      "17 153\n",
      "18 171\n",
      "19 190\n",
      "20 210\n",
      "21 231\n",
      "22 253\n",
      "23 276\n",
      "24 300\n",
      "25 325\n",
      "26 351\n",
      "27 378\n",
      "28 406\n",
      "29 435\n",
      "30 465\n",
      "31 496\n",
      "32 528\n",
      "33 561\n",
      "34 595\n",
      "35 630\n",
      "36 666\n",
      "37 703\n",
      "38 741\n",
      "39 780\n",
      "40 820\n",
      "41 861\n",
      "42 903\n",
      "43 946\n",
      "44 990\n",
      "45 1035\n",
      "46 1081\n",
      "47 1128\n",
      "48 1176\n",
      "49 1225\n",
      "50 1275\n",
      "51 1326\n",
      "52 1378\n",
      "53 1431\n",
      "54 1485\n",
      "55 1540\n",
      "56 1596\n",
      "57 1653\n",
      "58 1711\n",
      "59 1770\n",
      "60 1830\n",
      "61 1891\n",
      "62 1953\n",
      "63 2016\n",
      "64 2080\n",
      "65 2145\n",
      "66 2211\n",
      "67 2278\n",
      "68 2346\n",
      "69 2415\n",
      "70 2485\n",
      "71 2556\n",
      "72 2628\n",
      "73 2701\n",
      "74 2775\n",
      "75 2850\n",
      "76 2926\n",
      "77 3003\n",
      "78 3081\n",
      "79 3160\n",
      "80 3240\n",
      "81 3321\n",
      "82 3403\n",
      "83 3486\n",
      "84 3570\n",
      "85 3655\n",
      "86 3741\n",
      "87 3828\n",
      "88 3916\n",
      "89 4005\n",
      "90 4095\n",
      "91 4186\n",
      "92 4278\n",
      "93 4371\n",
      "94 4465\n",
      "95 4560\n",
      "96 4656\n",
      "97 4753\n",
      "98 4851\n",
      "99 4950\n",
      "100 5050\n"
     ]
    }
   ],
   "source": [
    "total = 0\n",
    "for i in range(1, 101):\n",
    "    total = total + i\n",
    "    print(i, total)"
   ]
  },
  {
   "cell_type": "code",
   "execution_count": 9,
   "id": "986606d2",
   "metadata": {},
   "outputs": [
    {
     "name": "stdout",
     "output_type": "stream",
     "text": [
      "543\n",
      "342\n",
      "6\n",
      "435\n",
      "543\n",
      "4 False\n",
      "3 False\n",
      "2 False\n",
      "l False\n",
      "k True\n",
      "n False\n",
      "1 False\n",
      "5 False\n",
      "6 False\n",
      "4 False\n",
      "4 False\n",
      "2 False\n",
      "i False\n",
      "b False\n",
      "3 False\n",
      "3 False\n",
      "1 False\n",
      "1 False\n",
      "l False\n",
      "; False\n",
      "k True\n",
      "n False\n",
      "p False\n",
      "k True\n",
      "5 False\n",
      "6 False\n",
      "2 False\n",
      "1 False\n",
      "3 False\n",
      "2 False\n",
      "1 False\n"
     ]
    }
   ],
   "source": [
    "list1 = [543,342,6,435,543]\n",
    "str1 = \"432lkn156442ib3311l;knpk5621321\"\n",
    "\n",
    "for val in list1:\n",
    "    print(val)\n",
    "    \n",
    "for string in str1:\n",
    "    print(string, string==\"k\")"
   ]
  },
  {
   "cell_type": "code",
   "execution_count": 10,
   "id": "62a6673e",
   "metadata": {},
   "outputs": [
    {
     "name": "stdout",
     "output_type": "stream",
     "text": [
      "1\n",
      "4\n",
      "9\n",
      "16\n",
      "25\n",
      "36\n",
      "49\n",
      "64\n",
      "81\n",
      "100\n",
      "121\n",
      "144\n",
      "169\n",
      "196\n",
      "225\n",
      "256\n",
      "289\n",
      "324\n",
      "361\n",
      "400\n",
      "441\n",
      "484\n",
      "529\n",
      "576\n",
      "625\n",
      "676\n",
      "729\n",
      "784\n",
      "841\n",
      "900\n",
      "961\n",
      "1024\n",
      "1089\n",
      "1156\n",
      "1225\n",
      "1296\n",
      "1369\n",
      "1444\n",
      "1521\n",
      "1600\n",
      "1681\n",
      "1764\n",
      "1849\n",
      "1936\n",
      "2025\n",
      "2116\n",
      "2209\n",
      "2304\n",
      "2401\n",
      "2500\n"
     ]
    }
   ],
   "source": [
    "total = 0\n",
    "for i in range(1,101,2):\n",
    "    total = total + i\n",
    "    print(total)"
   ]
  },
  {
   "cell_type": "code",
   "execution_count": 11,
   "id": "a800b50e",
   "metadata": {},
   "outputs": [
    {
     "data": {
      "text/plain": [
       "[1, 2, 3, 4]"
      ]
     },
     "execution_count": 11,
     "metadata": {},
     "output_type": "execute_result"
    }
   ],
   "source": [
    "list1 = [1,2]\n",
    "list2 = [3,4]\n",
    "list1 + list2"
   ]
  },
  {
   "cell_type": "markdown",
   "id": "d87d9690",
   "metadata": {},
   "source": [
    "## More on range()"
   ]
  },
  {
   "cell_type": "code",
   "execution_count": 12,
   "id": "aa829431",
   "metadata": {},
   "outputs": [
    {
     "name": "stdout",
     "output_type": "stream",
     "text": [
      "0\n",
      "[0]\n",
      "2\n",
      "[0, 2]\n",
      "4\n",
      "[0, 2, 4]\n",
      "6\n",
      "[0, 2, 4, 6]\n",
      "8\n",
      "[0, 2, 4, 6, 8]\n"
     ]
    }
   ],
   "source": [
    "#create a list by appending\n",
    "list1 = []\n",
    "for i in range(0,9,2):\n",
    "    print(i)\n",
    "    list1.append(i)\n",
    "    print(list1)"
   ]
  },
  {
   "cell_type": "code",
   "execution_count": 13,
   "id": "2557446d",
   "metadata": {},
   "outputs": [
    {
     "data": {
      "text/plain": [
       "[0, 2, 4, 6, 8]"
      ]
     },
     "execution_count": 13,
     "metadata": {},
     "output_type": "execute_result"
    }
   ],
   "source": [
    "#create a list by passing range(j,k,l) to list\n",
    "list2 = list(range(0,9,2))\n",
    "list2"
   ]
  },
  {
   "cell_type": "markdown",
   "id": "401e72bb",
   "metadata": {},
   "source": [
    "### Using len() with range"
   ]
  },
  {
   "cell_type": "code",
   "execution_count": 14,
   "id": "ccc2364d",
   "metadata": {},
   "outputs": [
    {
     "name": "stdout",
     "output_type": "stream",
     "text": [
      "i val\n",
      "0 0\n",
      "1 2\n",
      "2 4\n",
      "3 6\n",
      "4 8\n"
     ]
    }
   ],
   "source": [
    "list2_len = len(list2)\n",
    "print(\"i\", \"val\")\n",
    "for i in range(list2_len):\n",
    "    print(i, list2[i])"
   ]
  },
  {
   "cell_type": "markdown",
   "id": "3d4029e1",
   "metadata": {},
   "source": [
    "### Nested for-loop"
   ]
  },
  {
   "cell_type": "code",
   "execution_count": 15,
   "id": "d34522af",
   "metadata": {},
   "outputs": [
    {
     "name": "stdout",
     "output_type": "stream",
     "text": [
      "i list\n",
      "1 [0, 1, 2, 3, 4, 5, 6, 7, 8]\n",
      "length:  9\n",
      "j val\n",
      "0 0\n",
      "1 1\n",
      "2 2\n",
      "3 3\n",
      "4 4\n",
      "5 5\n",
      "6 6\n",
      "7 7\n",
      "8 8\n",
      "2 [0, 2, 4, 6, 8]\n",
      "length:  5\n",
      "j val\n",
      "0 0\n",
      "1 2\n",
      "2 4\n",
      "3 6\n",
      "4 8\n",
      "3 [0, 3, 6]\n",
      "length:  3\n",
      "j val\n",
      "0 0\n",
      "1 3\n",
      "2 6\n",
      "4 [0, 4, 8]\n",
      "length:  3\n",
      "j val\n",
      "0 0\n",
      "1 4\n",
      "2 8\n",
      "5 [0, 5]\n",
      "length:  2\n",
      "j val\n",
      "0 0\n",
      "1 5\n"
     ]
    }
   ],
   "source": [
    "list2_len = len(list2)\n",
    "print(\"i\", \"list\")\n",
    "\n",
    "#nested for loop with varying interval\n",
    "for interval in range(1,6):\n",
    "    list2 = list(range(0,9,interval))\n",
    "    print(interval, list2)\n",
    "    list2_len = len(list2)\n",
    "    print(\"length: \", list2_len)\n",
    "    print(\"j\", \"val\")\n",
    "    for j in range(list2_len):\n",
    "        print(j, list2[j])"
   ]
  },
  {
   "cell_type": "markdown",
   "id": "bc4403b0",
   "metadata": {},
   "source": [
    "## If Statements And Boolean Variables"
   ]
  },
  {
   "cell_type": "code",
   "execution_count": 16,
   "id": "4325dfa6",
   "metadata": {},
   "outputs": [
    {
     "name": "stdout",
     "output_type": "stream",
     "text": [
      "True\n",
      "False\n",
      "1\n",
      "0\n",
      "0\n"
     ]
    }
   ],
   "source": [
    "# Boolean variables are either true or false\n",
    "print(True)\n",
    "print(False)\n",
    "print(True * True)\n",
    "print(True * False)\n",
    "print(False * False)"
   ]
  },
  {
   "cell_type": "code",
   "execution_count": 17,
   "id": "e128d5ff",
   "metadata": {},
   "outputs": [
    {
     "name": "stdout",
     "output_type": "stream",
     "text": [
      "True\n",
      "False\n"
     ]
    }
   ],
   "source": [
    "boolean = True\n",
    "if boolean: # <=> if boolean == True\n",
    "    print(boolean)\n",
    "    \n",
    "boolean2 = False\n",
    "if boolean2 == False:\n",
    "    print(boolean2)\n",
    "if boolean == False:\n",
    "    print(boolean)"
   ]
  },
  {
   "cell_type": "code",
   "execution_count": 18,
   "id": "5c102013",
   "metadata": {},
   "outputs": [
    {
     "data": {
      "text/plain": [
       "True"
      ]
     },
     "execution_count": 18,
     "metadata": {},
     "output_type": "execute_result"
    }
   ],
   "source": [
    "False == False"
   ]
  },
  {
   "cell_type": "code",
   "execution_count": 19,
   "id": "eda97fb3",
   "metadata": {},
   "outputs": [
    {
     "data": {
      "text/plain": [
       "True"
      ]
     },
     "execution_count": 19,
     "metadata": {},
     "output_type": "execute_result"
    }
   ],
   "source": [
    "1 == True"
   ]
  },
  {
   "cell_type": "code",
   "execution_count": 20,
   "id": "23df9cda",
   "metadata": {},
   "outputs": [
    {
     "data": {
      "text/plain": [
       "False"
      ]
     },
     "execution_count": 20,
     "metadata": {},
     "output_type": "execute_result"
    }
   ],
   "source": [
    "1 != True"
   ]
  },
  {
   "cell_type": "code",
   "execution_count": 21,
   "id": "a537acfe",
   "metadata": {},
   "outputs": [
    {
     "name": "stdout",
     "output_type": "stream",
     "text": [
      "The word \"ate\" appears 2 time/s in the list\n"
     ]
    }
   ],
   "source": [
    "words = [\"The\", \"dog\", \"ate\", \"the\", \"snow\", \"and\", \"then\", \"she\", \"ate\", \"my\", \"homework\"]\n",
    "# Does the word \"ate\" appear in the list? \n",
    "count = words.count(\"ate\")\n",
    "print(\"The word \\\"ate\\\" appears \" + str(count) + \" time/s in the list\")"
   ]
  },
  {
   "cell_type": "code",
   "execution_count": 22,
   "id": "95e20d82",
   "metadata": {},
   "outputs": [
    {
     "name": "stdout",
     "output_type": "stream",
     "text": [
      "0 The\n",
      "Is the word The \"ate\"?: False\n",
      "1 dog\n",
      "Is the word dog \"ate\"?: False\n",
      "2 ate\n",
      "Is the word ate \"ate\"?: True\n",
      "3 the\n",
      "Is the word the \"ate\"?: False\n",
      "4 snow\n",
      "Is the word snow \"ate\"?: False\n",
      "5 and\n",
      "Is the word and \"ate\"?: False\n",
      "6 then\n",
      "Is the word then \"ate\"?: False\n",
      "7 she\n",
      "Is the word she \"ate\"?: False\n",
      "8 ate\n",
      "Is the word ate \"ate\"?: True\n",
      "9 my\n",
      "Is the word my \"ate\"?: False\n",
      "10 homework\n",
      "Is the word homework \"ate\"?: False\n"
     ]
    }
   ],
   "source": [
    "num_words = len(words)\n",
    "for i in range(num_words):\n",
    "    print(i, words[i])\n",
    "    print(\"Is the word \" + words[i] + \" \\\"ate\\\"?: \" + str(words[i] == \"ate\"))"
   ]
  },
  {
   "cell_type": "markdown",
   "id": "a0fa67b0",
   "metadata": {},
   "source": [
    "## If, else, and elif"
   ]
  },
  {
   "cell_type": "code",
   "execution_count": 23,
   "id": "400d2254",
   "metadata": {},
   "outputs": [
    {
     "name": "stdout",
     "output_type": "stream",
     "text": [
      "251 is greater than 10\n",
      "6 is not greater than 10\n",
      "1 is not greater than 10\n",
      "51 is greater than 10\n",
      "981 is greater than 10\n",
      "98 is greater than 10\n",
      "4 is not greater than 10\n",
      "94511 is greater than 10\n",
      "5 is not greater than 10\n",
      "16 is greater than 10\n",
      "1 is not greater than 10\n",
      "9 is not greater than 10\n",
      "5 is not greater than 10\n",
      "191911 is greater than 10\n",
      "8 is not greater than 10\n",
      "191 is greater than 10\n",
      "\n",
      "\n",
      "[251, 51, 981, 98, 94511, 16, 191911, 191]\n",
      "[6, 1, 4, 5, 1, 9, 5, 8]\n"
     ]
    }
   ],
   "source": [
    "random_numbers = [251,6,1,51,981,98,4,94511,5,16,1,9,5,191911,8,191]\n",
    "\n",
    "#is the number >10\n",
    "lessOrEqual10 = []\n",
    "greater10 = []\n",
    "for number in random_numbers:\n",
    "    if number > 10:\n",
    "        print(number, \"is greater than 10\")\n",
    "        greater10.append(number)\n",
    "    else:\n",
    "        print(number, \"is not greater than 10\")\n",
    "        lessOrEqual10.append(number)\n",
    "print(\"\\n\")\n",
    "print(greater10)\n",
    "print(lessOrEqual10)"
   ]
  },
  {
   "cell_type": "code",
   "execution_count": 24,
   "id": "b1c08df1",
   "metadata": {},
   "outputs": [
    {
     "name": "stdout",
     "output_type": "stream",
     "text": [
      "251 is greater than 10\n",
      "6 is in the domain of 0 and 10\n",
      "1 is in the domain of 0 and 10\n",
      "51 is greater than 10\n",
      "981 is greater than 10\n",
      "-98 is negative\n",
      "6 is in the domain of 0 and 10\n",
      "6 is in the domain of 0 and 10\n",
      "4 is in the domain of 0 and 10\n",
      "94511 is greater than 10\n",
      "5 is in the domain of 0 and 10\n",
      "16 is greater than 10\n",
      "1 is in the domain of 0 and 10\n",
      "9 is in the domain of 0 and 10\n",
      "-5 is negative\n",
      "191911 is greater than 10\n",
      "8 is in the domain of 0 and 10\n",
      "-191 is negative\n",
      "\n",
      "\n",
      "[251, 51, 981, 94511, 16, 191911]\n",
      "[6, 1, 6, 6, 4, 5, 1, 9, 8]\n",
      "[-98, -5, -191]\n"
     ]
    }
   ],
   "source": [
    "random_numbers = [251,6,1,51,981,-98,6,6,4,94511,5,16,1,9,-5,191911,8,-191]\n",
    "\n",
    "#is the number >10\n",
    "negative = []\n",
    "zeroTo10 = []\n",
    "greater10 = []\n",
    "for number in random_numbers:\n",
    "    if number > 10:\n",
    "        print(number, \"is greater than 10\")\n",
    "        greater10.append(number)\n",
    "    elif number >= 0:\n",
    "        print(number, \"is in the domain of 0 and 10\")\n",
    "        zeroTo10.append(number)\n",
    "    else:\n",
    "        print(number, \"is negative\")\n",
    "        negative.append(number)\n",
    "print(\"\\n\")\n",
    "print(greater10)\n",
    "print(zeroTo10)\n",
    "print(negative)"
   ]
  },
  {
   "cell_type": "markdown",
   "id": "70a584f6",
   "metadata": {},
   "source": [
    "## Removing values from a list"
   ]
  },
  {
   "cell_type": "code",
   "execution_count": 25,
   "id": "d11a744f",
   "metadata": {},
   "outputs": [
    {
     "name": "stdout",
     "output_type": "stream",
     "text": [
      "[251, 51, 981, 94511, 16]\n",
      "[6, 1, 6, 6, 4, 5, 1, 9]\n",
      "[-98, -5]\n"
     ]
    }
   ],
   "source": [
    "#delete last elements using -1\n",
    "del greater10[-1]\n",
    "del zeroTo10[-1]\n",
    "del negative[-1]\n",
    "print(greater10)\n",
    "print(zeroTo10)\n",
    "print(negative)"
   ]
  },
  {
   "cell_type": "code",
   "execution_count": 26,
   "id": "97f37220",
   "metadata": {},
   "outputs": [
    {
     "name": "stdout",
     "output_type": "stream",
     "text": [
      "[251, 981, 94511, 16]\n",
      "[6, 6, 6, 4, 5, 1, 9]\n",
      "[-98]\n"
     ]
    }
   ],
   "source": [
    "# using 1 deletes the second element\n",
    "del greater10[1]\n",
    "del zeroTo10[1]\n",
    "del negative[1]\n",
    "print(greater10)\n",
    "print(zeroTo10)\n",
    "print(negative)"
   ]
  },
  {
   "cell_type": "code",
   "execution_count": 27,
   "id": "18d28368",
   "metadata": {},
   "outputs": [
    {
     "name": "stdout",
     "output_type": "stream",
     "text": [
      "[981, 94511, 16]\n",
      "[6, 6, 4, 5, 1, 9]\n",
      "[]\n"
     ]
    }
   ],
   "source": [
    "greater10.remove(251)\n",
    "#only removes first instance\n",
    "zeroTo10.remove(6)\n",
    "negative.remove(-98)\n",
    "print(greater10)\n",
    "print(zeroTo10)\n",
    "print(negative)"
   ]
  },
  {
   "cell_type": "markdown",
   "id": "96babcfb",
   "metadata": {},
   "source": [
    "### list.pop()"
   ]
  },
  {
   "cell_type": "code",
   "execution_count": 28,
   "id": "0090fc67",
   "metadata": {},
   "outputs": [
    {
     "name": "stdout",
     "output_type": "stream",
     "text": [
      "16\n",
      "[981, 94511]\n"
     ]
    }
   ],
   "source": [
    "#removes the last element\n",
    "print(greater10.pop())\n",
    "print(greater10)"
   ]
  },
  {
   "cell_type": "markdown",
   "id": "f1160e24",
   "metadata": {},
   "source": [
    "## Sorting"
   ]
  },
  {
   "cell_type": "code",
   "execution_count": 29,
   "id": "688cc1c1",
   "metadata": {},
   "outputs": [
    {
     "data": {
      "text/plain": [
       "([1, 6, 8, 12, 13, 33, 34, 36, 216, 994, 1694, 4564, 6132],\n",
       " ['BPMBM', 'OEbmbm', 'afbmae', 'mbbpomb', 'pmpm', 'pom', 'ppmpmpmm'])"
      ]
     },
     "execution_count": 29,
     "metadata": {},
     "output_type": "execute_result"
    }
   ],
   "source": [
    "numList = [13,216,4564,994,1,6132,1694,8,12,33,6,36,34]\n",
    "strList = [\"afbmae\",\"mbbpomb\",\"pom\",\"BPMBM\",\"OEbmbm\",\"ppmpmpmm\",\"pmpm\"]\n",
    "#Capital letters come before lowercase letters\n",
    "sorted(numList), sorted(strList)"
   ]
  },
  {
   "cell_type": "code",
   "execution_count": 30,
   "id": "f877b26e",
   "metadata": {},
   "outputs": [
    {
     "data": {
      "text/plain": [
       "([13, 216, 4564, 994, 1, 6132, 1694, 8, 12, 33, 6, 36, 34],\n",
       " ['afbmae', 'mbbpomb', 'pom', 'BPMBM', 'OEbmbm', 'ppmpmpmm', 'pmpm'])"
      ]
     },
     "execution_count": 30,
     "metadata": {},
     "output_type": "execute_result"
    }
   ],
   "source": [
    "#sorting is not permanent\n",
    "numList, strList"
   ]
  },
  {
   "cell_type": "code",
   "execution_count": 31,
   "id": "1fd511f3",
   "metadata": {},
   "outputs": [
    {
     "data": {
      "text/plain": [
       "[1, 6, 8, 12, 13, 33, 34, 36, 216, 994, 1694, 4564, 6132]"
      ]
     },
     "execution_count": 31,
     "metadata": {},
     "output_type": "execute_result"
    }
   ],
   "source": [
    "#.sort() is permanent\n",
    "numList.sort()\n",
    "numList"
   ]
  },
  {
   "cell_type": "code",
   "execution_count": 32,
   "id": "ebf625f4",
   "metadata": {},
   "outputs": [
    {
     "ename": "TypeError",
     "evalue": "'<' not supported between instances of 'str' and 'int'",
     "output_type": "error",
     "traceback": [
      "\u001b[1;31m---------------------------------------------------------------------------\u001b[0m",
      "\u001b[1;31mTypeError\u001b[0m                                 Traceback (most recent call last)",
      "Cell \u001b[1;32mIn[32], line 2\u001b[0m\n\u001b[0;32m      1\u001b[0m \u001b[38;5;66;03m#cant compare string and int\u001b[39;00m\n\u001b[1;32m----> 2\u001b[0m \u001b[38;5;28;43msorted\u001b[39;49m\u001b[43m(\u001b[49m\u001b[43mnumList\u001b[49m\u001b[43m \u001b[49m\u001b[38;5;241;43m+\u001b[39;49m\u001b[43m \u001b[49m\u001b[43mstrList\u001b[49m\u001b[43m)\u001b[49m\n",
      "\u001b[1;31mTypeError\u001b[0m: '<' not supported between instances of 'str' and 'int'"
     ]
    }
   ],
   "source": [
    "#cant compare string and int\n",
    "sorted(numList + strList)"
   ]
  },
  {
   "cell_type": "markdown",
   "id": "73343cf1",
   "metadata": {},
   "source": [
    "## List Slices "
   ]
  },
  {
   "cell_type": "code",
   "execution_count": 33,
   "id": "cc64eb45",
   "metadata": {},
   "outputs": [
    {
     "data": {
      "text/plain": [
       "[3, 4, 5]"
      ]
     },
     "execution_count": 33,
     "metadata": {},
     "output_type": "execute_result"
    }
   ],
   "source": [
    "#a slice is a portion of the list\n",
    "lst = [1,2,3,4,5,6,6,7]\n",
    "#the first number is the index, the second is before the index\n",
    "lst[2:5]"
   ]
  },
  {
   "cell_type": "code",
   "execution_count": 34,
   "id": "32ea966e",
   "metadata": {},
   "outputs": [
    {
     "data": {
      "text/plain": [
       "[1, 3, 5, 6]"
      ]
     },
     "execution_count": 34,
     "metadata": {},
     "output_type": "execute_result"
    }
   ],
   "source": [
    "lst[::2]"
   ]
  },
  {
   "cell_type": "markdown",
   "id": "bb1aaccd",
   "metadata": {},
   "source": [
    "## Lists and generators"
   ]
  },
  {
   "cell_type": "code",
   "execution_count": 35,
   "id": "da20ffaa",
   "metadata": {},
   "outputs": [
    {
     "data": {
      "text/plain": [
       "[0, 1, 2, 3, 4, 5, 6, 7, 8, 9, 10, 11, 12, 13, 14, 15, 16, 17, 18, 19]"
      ]
     },
     "execution_count": 35,
     "metadata": {},
     "output_type": "execute_result"
    }
   ],
   "source": [
    "generator = (i for i in range(20))\n",
    "\n",
    "list1 = list(generator)\n",
    "list1"
   ]
  },
  {
   "cell_type": "code",
   "execution_count": 36,
   "id": "3ab3796f",
   "metadata": {},
   "outputs": [
    {
     "data": {
      "text/plain": [
       "[0, 2, 4, 6, 8, 10, 12, 14, 16, 18, 20, 22, 24, 26, 28, 30, 32, 34, 36, 38]"
      ]
     },
     "execution_count": 36,
     "metadata": {},
     "output_type": "execute_result"
    }
   ],
   "source": [
    "list2 = [2 * i for i in range(20)]\n",
    "list2"
   ]
  },
  {
   "cell_type": "code",
   "execution_count": null,
   "id": "a594831e",
   "metadata": {},
   "outputs": [],
   "source": []
  },
  {
   "cell_type": "code",
   "execution_count": null,
   "id": "b4aae499",
   "metadata": {},
   "outputs": [],
   "source": []
  },
  {
   "cell_type": "code",
   "execution_count": null,
   "id": "391560e5",
   "metadata": {},
   "outputs": [],
   "source": []
  },
  {
   "cell_type": "code",
   "execution_count": null,
   "id": "928882e0",
   "metadata": {},
   "outputs": [],
   "source": []
  }
 ],
 "metadata": {
  "kernelspec": {
   "display_name": "Python 3 (ipykernel)",
   "language": "python",
   "name": "python3"
  },
  "language_info": {
   "codemirror_mode": {
    "name": "ipython",
    "version": 3
   },
   "file_extension": ".py",
   "mimetype": "text/x-python",
   "name": "python",
   "nbconvert_exporter": "python",
   "pygments_lexer": "ipython3",
   "version": "3.9.13"
  }
 },
 "nbformat": 4,
 "nbformat_minor": 5
}
