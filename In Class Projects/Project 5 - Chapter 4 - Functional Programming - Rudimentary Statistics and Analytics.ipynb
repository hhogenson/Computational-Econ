{
 "cells": [
  {
   "cell_type": "markdown",
   "id": "5ab632c1",
   "metadata": {},
   "source": [
    "# Chapter 4: Functional Programming: Rudimentary Statistics and Analytics"
   ]
  },
  {
   "cell_type": "code",
   "execution_count": null,
   "id": "682f6664",
   "metadata": {},
   "outputs": [],
   "source": [
    "# The general form of a function\n",
    "# def function_name(object1, object2, ... , objectn):\n",
    "#    <operations>"
   ]
  },
  {
   "cell_type": "markdown",
   "id": "850e5d32",
   "metadata": {},
   "source": [
    "### Total\n",
    "$\\sum_{i=0}^{n-1} x_{i}$"
   ]
  },
  {
   "cell_type": "code",
   "execution_count": 4,
   "id": "65f39b3c",
   "metadata": {},
   "outputs": [
    {
     "name": "stdout",
     "output_type": "stream",
     "text": [
      "total\t value\n",
      "0 \t 0\n",
      "1 \t 1\n",
      "3 \t 2\n",
      "6 \t 3\n",
      "10 \t 4\n",
      "15 \t 5\n",
      "21 \t 6\n",
      "28 \t 7\n",
      "36 \t 8\n",
      "45 \t 9\n"
     ]
    }
   ],
   "source": [
    "n = 0\n",
    "total = 0\n",
    "values = [i for i in range(10)]\n",
    "\n",
    "print(\"total\\t\",\"value\")\n",
    "for value in values:\n",
    "    total += value\n",
    "    print(total,\"\\t\", value)"
   ]
  },
  {
   "cell_type": "markdown",
   "id": "7b1d9d0d",
   "metadata": {},
   "source": [
    "This way of coding is inefficient becuase it must be rewritten each time it needs to be used.\n",
    "Instead, the code can be stored as a function, dramatically shortening the amount of code that needs to be written."
   ]
  },
  {
   "cell_type": "code",
   "execution_count": 7,
   "id": "84e457f2",
   "metadata": {},
   "outputs": [
    {
     "data": {
      "text/plain": [
       "45"
      ]
     },
     "execution_count": 7,
     "metadata": {},
     "output_type": "execute_result"
    }
   ],
   "source": [
    "def total(lst):\n",
    "    total_ = 0\n",
    "    # in original, I used the index of the list\n",
    "    # n = len(lst)\n",
    "    # for i in range(n)\n",
    "    for val in lst:\n",
    "        total_ += val\n",
    "    return total_\n",
    "total(values)"
   ]
  },
  {
   "cell_type": "code",
   "execution_count": 8,
   "id": "b58f2df8",
   "metadata": {},
   "outputs": [
    {
     "data": {
      "text/plain": [
       "932984"
      ]
     },
     "execution_count": 8,
     "metadata": {},
     "output_type": "execute_result"
    }
   ],
   "source": [
    "total([i for i in range(-1000, 10000, 53)])"
   ]
  },
  {
   "cell_type": "code",
   "execution_count": 9,
   "id": "cc74a91d",
   "metadata": {},
   "outputs": [
    {
     "data": {
      "text/plain": [
       "439"
      ]
     },
     "execution_count": 9,
     "metadata": {},
     "output_type": "execute_result"
    }
   ],
   "source": [
    "import random\n",
    "x1 = [random.randint(0,100) for i in range(10)]\n",
    "total(x1)"
   ]
  },
  {
   "cell_type": "markdown",
   "id": "a5957249",
   "metadata": {},
   "source": [
    "### Mean\n",
    "$\\bar{X} = \\frac{\\sum_{i=0}^{n-1} x_{i}} {n}$\n",
    "\n",
    "To calculate the mean, sum all the numbers and divide by the quantity of numbers"
   ]
  },
  {
   "cell_type": "code",
   "execution_count": 14,
   "id": "633fabb2",
   "metadata": {},
   "outputs": [],
   "source": [
    "def mean(lst):\n",
    "    n = len(lst)\n",
    "    mean_ = total(lst) / n\n",
    "    return mean_\n",
    "\n",
    "#more consice\n",
    "def meanc(lst):\n",
    "    return total(lst) / len(lst)"
   ]
  },
  {
   "cell_type": "code",
   "execution_count": 15,
   "id": "dfde29cd",
   "metadata": {},
   "outputs": [
    {
     "data": {
      "text/plain": [
       "43.9"
      ]
     },
     "execution_count": 15,
     "metadata": {},
     "output_type": "execute_result"
    }
   ],
   "source": [
    "mean(x1)"
   ]
  },
  {
   "cell_type": "code",
   "execution_count": 16,
   "id": "f982970d",
   "metadata": {},
   "outputs": [
    {
     "data": {
      "text/plain": [
       "43.9"
      ]
     },
     "execution_count": 16,
     "metadata": {},
     "output_type": "execute_result"
    }
   ],
   "source": [
    "meanc(x1)"
   ]
  },
  {
   "cell_type": "markdown",
   "id": "2d08753e",
   "metadata": {},
   "source": [
    "Now I will build Median, Mode, Var, SD, SE, Cov, and Corr"
   ]
  },
  {
   "cell_type": "markdown",
   "id": "e13f453d",
   "metadata": {},
   "source": [
    "### Median"
   ]
  },
  {
   "cell_type": "code",
   "execution_count": 24,
   "id": "848b255f",
   "metadata": {},
   "outputs": [],
   "source": [
    "def median(lst):\n",
    "    n = len(lst)\n",
    "    lst = sorted(lst)\n",
    "    # if length is odd (not divisible by two)\n",
    "    if n % 2 != 0:\n",
    "        middle_index = int((n - 1) / 2)\n",
    "        median_ = lst[middle_index]\n",
    "    # if length is evem\n",
    "    else:\n",
    "        upper_middle_index = int(n/2)\n",
    "        lower_middle_index = upper_middle_index - 1\n",
    "        median_ = mean(lst[lower_middle_index : upper_middle_index + 1])\n",
    "   \n",
    "    return median_"
   ]
  },
  {
   "cell_type": "code",
   "execution_count": 25,
   "id": "3c81ce67",
   "metadata": {},
   "outputs": [
    {
     "data": {
      "text/plain": [
       "43.5"
      ]
     },
     "execution_count": 25,
     "metadata": {},
     "output_type": "execute_result"
    }
   ],
   "source": [
    "median1 = median(x1)\n",
    "median1"
   ]
  },
  {
   "cell_type": "code",
   "execution_count": 27,
   "id": "b6dac1d1",
   "metadata": {},
   "outputs": [
    {
     "data": {
      "text/plain": [
       "66"
      ]
     },
     "execution_count": 27,
     "metadata": {},
     "output_type": "execute_result"
    }
   ],
   "source": [
    "median2 = median([random.randint(0,100) for i in range(11)])\n",
    "median2"
   ]
  },
  {
   "cell_type": "markdown",
   "id": "d720a0d8",
   "metadata": {},
   "source": [
    "### Mode"
   ]
  },
  {
   "cell_type": "code",
   "execution_count": 32,
   "id": "53db926d",
   "metadata": {},
   "outputs": [],
   "source": [
    "def mode(lst):\n",
    "    count_dct = {}\n",
    "    #create entries for each val with zero\n",
    "    for key in lst:\n",
    "        count_dct[key] = 0\n",
    "    #increment entry w/ each occurance\n",
    "    for key in lst:\n",
    "        count_dct[key] += 1\n",
    "    #calc max count upfront    \n",
    "    max_count = max(count_dct.values())\n",
    "    #compare each val\n",
    "    mode_ = []\n",
    "    for key, count in count_dct.items():\n",
    "        if count == max_count:\n",
    "            mode_.append(key)\n",
    "        \n",
    "    return mode_"
   ]
  },
  {
   "cell_type": "code",
   "execution_count": 33,
   "id": "c9e706f5",
   "metadata": {},
   "outputs": [
    {
     "data": {
      "text/plain": [
       "[5]"
      ]
     },
     "execution_count": 33,
     "metadata": {},
     "output_type": "execute_result"
    }
   ],
   "source": [
    "lst = [1,2,3,4,5,5,5,5,5,5,5,5]\n",
    "mode(lst)"
   ]
  },
  {
   "cell_type": "code",
   "execution_count": 35,
   "id": "8fadcf21",
   "metadata": {},
   "outputs": [
    {
     "data": {
      "text/plain": [
       "[1, 5]"
      ]
     },
     "execution_count": 35,
     "metadata": {},
     "output_type": "execute_result"
    }
   ],
   "source": [
    "lst = [1,1,1,1,1,2,3,4,5,5,5,5,5]\n",
    "mode(lst)"
   ]
  },
  {
   "cell_type": "markdown",
   "id": "bcf33787",
   "metadata": {},
   "source": [
    "### Variance\n",
    "\n",
    "We define population variance as:\n",
    "\n",
    "$$ \\sigma^2 = \\frac{\\sum_{i=1}^n (X_i - \\bar{X})^2}{n}$$\n",
    "\n",
    "and the sample variance as:\n",
    "\n",
    "$$ S^2 = \\frac{\\sum_{i=1}^n (X_i - \\bar{X})^2}{n-1}$$\n"
   ]
  },
  {
   "cell_type": "code",
   "execution_count": 38,
   "id": "6fd6be12",
   "metadata": {},
   "outputs": [],
   "source": [
    "def variance(lst, sample = True):\n",
    "    mean_ = mean(lst)\n",
    "    n = len(lst)\n",
    "    DoF = n - 1\n",
    "    sum_sq_diff = 0\n",
    "    \n",
    "    for val in lst:\n",
    "        sum_sq_diff += (val - mean_) ** 2\n",
    "    if sample:\n",
    "        variance_ = sum_sq_diff / (n-1)\n",
    "    else:\n",
    "        variance_ = sum_sq_diff / (n)\n",
    "    return variance_"
   ]
  },
  {
   "cell_type": "code",
   "execution_count": 40,
   "id": "5f6ba263",
   "metadata": {},
   "outputs": [
    {
     "data": {
      "text/plain": [
       "(3.5, 3.230769230769231)"
      ]
     },
     "execution_count": 40,
     "metadata": {},
     "output_type": "execute_result"
    }
   ],
   "source": [
    "variance(lst), variance(lst, sample = False)"
   ]
  },
  {
   "cell_type": "code",
   "execution_count": 41,
   "id": "c349ed2f",
   "metadata": {},
   "outputs": [],
   "source": [
    "def SD(lst, sample = True):\n",
    "    SD_ = variance(lst, sample) ** (1/2)\n",
    "    return SD_"
   ]
  },
  {
   "cell_type": "code",
   "execution_count": 43,
   "id": "e289d029",
   "metadata": {},
   "outputs": [
    {
     "data": {
      "text/plain": [
       "(1.8708286933869707, 1.7974340685458343)"
      ]
     },
     "execution_count": 43,
     "metadata": {},
     "output_type": "execute_result"
    }
   ],
   "source": [
    "SD(lst), SD(lst, False)"
   ]
  },
  {
   "cell_type": "code",
   "execution_count": null,
   "id": "b980e690",
   "metadata": {},
   "outputs": [],
   "source": []
  }
 ],
 "metadata": {
  "kernelspec": {
   "display_name": "Python 3 (ipykernel)",
   "language": "python",
   "name": "python3"
  },
  "language_info": {
   "codemirror_mode": {
    "name": "ipython",
    "version": 3
   },
   "file_extension": ".py",
   "mimetype": "text/x-python",
   "name": "python",
   "nbconvert_exporter": "python",
   "pygments_lexer": "ipython3",
   "version": "3.9.13"
  }
 },
 "nbformat": 4,
 "nbformat_minor": 5
}
