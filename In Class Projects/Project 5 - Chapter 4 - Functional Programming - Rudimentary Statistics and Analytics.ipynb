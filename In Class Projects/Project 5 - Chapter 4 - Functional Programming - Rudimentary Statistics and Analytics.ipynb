{
 "cells": [
  {
   "cell_type": "markdown",
   "id": "5ab632c1",
   "metadata": {},
   "source": [
    "# Chapter 4: Functional Programming: Rudimentary Statistics and Analytics"
   ]
  },
  {
   "cell_type": "code",
   "execution_count": 1,
   "id": "682f6664",
   "metadata": {},
   "outputs": [],
   "source": [
    "# The general form of a function\n",
    "# def function_name(object1, object2, ... , objectn):\n",
    "#    <operations>"
   ]
  },
  {
   "cell_type": "markdown",
   "id": "850e5d32",
   "metadata": {},
   "source": [
    "### Total\n",
    "$\\sum_{i=0}^{n-1} x_{i}$"
   ]
  },
  {
   "cell_type": "code",
   "execution_count": 2,
   "id": "65f39b3c",
   "metadata": {},
   "outputs": [
    {
     "name": "stdout",
     "output_type": "stream",
     "text": [
      "total\t value\n",
      "0 \t 0\n",
      "1 \t 1\n",
      "3 \t 2\n",
      "6 \t 3\n",
      "10 \t 4\n",
      "15 \t 5\n",
      "21 \t 6\n",
      "28 \t 7\n",
      "36 \t 8\n",
      "45 \t 9\n"
     ]
    }
   ],
   "source": [
    "n = 0\n",
    "total = 0\n",
    "values = [i for i in range(10)]\n",
    "\n",
    "print(\"total\\t\",\"value\")\n",
    "for value in values:\n",
    "    total += value\n",
    "    print(total,\"\\t\", value)"
   ]
  },
  {
   "cell_type": "markdown",
   "id": "7b1d9d0d",
   "metadata": {},
   "source": [
    "This way of coding is inefficient becuase it must be rewritten each time it needs to be used.\n",
    "Instead, the code can be stored as a function, dramatically shortening the amount of code that needs to be written."
   ]
  },
  {
   "cell_type": "code",
   "execution_count": 3,
   "id": "84e457f2",
   "metadata": {},
   "outputs": [
    {
     "data": {
      "text/plain": [
       "45"
      ]
     },
     "execution_count": 3,
     "metadata": {},
     "output_type": "execute_result"
    }
   ],
   "source": [
    "def total(lst):\n",
    "    total_ = 0\n",
    "    # in original, I used the index of the list\n",
    "    # n = len(lst)\n",
    "    # for i in range(n)\n",
    "    for val in lst:\n",
    "        total_ += val\n",
    "    return total_\n",
    "total(values)"
   ]
  },
  {
   "cell_type": "code",
   "execution_count": 4,
   "id": "b58f2df8",
   "metadata": {},
   "outputs": [
    {
     "data": {
      "text/plain": [
       "932984"
      ]
     },
     "execution_count": 4,
     "metadata": {},
     "output_type": "execute_result"
    }
   ],
   "source": [
    "total([i for i in range(-1000, 10000, 53)])"
   ]
  },
  {
   "cell_type": "code",
   "execution_count": 5,
   "id": "cc74a91d",
   "metadata": {},
   "outputs": [
    {
     "data": {
      "text/plain": [
       "433"
      ]
     },
     "execution_count": 5,
     "metadata": {},
     "output_type": "execute_result"
    }
   ],
   "source": [
    "import random\n",
    "x1 = [random.randint(0,100) for i in range(10)]\n",
    "total(x1)"
   ]
  },
  {
   "cell_type": "markdown",
   "id": "a5957249",
   "metadata": {},
   "source": [
    "### Mean\n",
    "$\\bar{X} = \\frac{\\sum_{i=0}^{n-1} x_{i}} {n}$\n",
    "\n",
    "To calculate the mean, sum all the numbers and divide by the quantity of numbers"
   ]
  },
  {
   "cell_type": "code",
   "execution_count": 6,
   "id": "633fabb2",
   "metadata": {},
   "outputs": [],
   "source": [
    "def mean(lst):\n",
    "    n = len(lst)\n",
    "    mean_ = total(lst) / n\n",
    "    return mean_\n",
    "\n",
    "#more consice\n",
    "def meanc(lst):\n",
    "    return total(lst) / len(lst)"
   ]
  },
  {
   "cell_type": "code",
   "execution_count": 7,
   "id": "dfde29cd",
   "metadata": {},
   "outputs": [
    {
     "data": {
      "text/plain": [
       "43.3"
      ]
     },
     "execution_count": 7,
     "metadata": {},
     "output_type": "execute_result"
    }
   ],
   "source": [
    "mean(x1)"
   ]
  },
  {
   "cell_type": "code",
   "execution_count": 8,
   "id": "f982970d",
   "metadata": {},
   "outputs": [
    {
     "data": {
      "text/plain": [
       "43.3"
      ]
     },
     "execution_count": 8,
     "metadata": {},
     "output_type": "execute_result"
    }
   ],
   "source": [
    "meanc(x1)"
   ]
  },
  {
   "cell_type": "markdown",
   "id": "2d08753e",
   "metadata": {},
   "source": [
    "Now I will build Median, Mode, Var, SD, SE, Cov, and Corr"
   ]
  },
  {
   "cell_type": "markdown",
   "id": "e13f453d",
   "metadata": {},
   "source": [
    "### Median"
   ]
  },
  {
   "cell_type": "code",
   "execution_count": 9,
   "id": "848b255f",
   "metadata": {},
   "outputs": [],
   "source": [
    "def median(lst):\n",
    "    n = len(lst)\n",
    "    lst = sorted(lst)\n",
    "    # if length is odd (not divisible by two)\n",
    "    if n % 2 != 0:\n",
    "        middle_index = int((n - 1) / 2)\n",
    "        median_ = lst[middle_index]\n",
    "    # if length is evem\n",
    "    else:\n",
    "        upper_middle_index = int(n/2)\n",
    "        lower_middle_index = upper_middle_index - 1\n",
    "        median_ = mean(lst[lower_middle_index : upper_middle_index + 1])\n",
    "   \n",
    "    return median_"
   ]
  },
  {
   "cell_type": "code",
   "execution_count": 10,
   "id": "3c81ce67",
   "metadata": {},
   "outputs": [
    {
     "data": {
      "text/plain": [
       "44.5"
      ]
     },
     "execution_count": 10,
     "metadata": {},
     "output_type": "execute_result"
    }
   ],
   "source": [
    "median1 = median(x1)\n",
    "median1"
   ]
  },
  {
   "cell_type": "code",
   "execution_count": 11,
   "id": "b6dac1d1",
   "metadata": {},
   "outputs": [
    {
     "data": {
      "text/plain": [
       "83"
      ]
     },
     "execution_count": 11,
     "metadata": {},
     "output_type": "execute_result"
    }
   ],
   "source": [
    "median2 = median([random.randint(0,100) for i in range(11)])\n",
    "median2"
   ]
  },
  {
   "cell_type": "markdown",
   "id": "d720a0d8",
   "metadata": {},
   "source": [
    "### Mode"
   ]
  },
  {
   "cell_type": "code",
   "execution_count": 12,
   "id": "53db926d",
   "metadata": {},
   "outputs": [],
   "source": [
    "def mode(lst):\n",
    "    count_dct = {}\n",
    "    #create entries for each val with zero\n",
    "    for key in lst:\n",
    "        count_dct[key] = 0\n",
    "    #increment entry w/ each occurance\n",
    "    for key in lst:\n",
    "        count_dct[key] += 1\n",
    "    #calc max count upfront    \n",
    "    max_count = max(count_dct.values())\n",
    "    #compare each val\n",
    "    mode_ = []\n",
    "    for key, count in count_dct.items():\n",
    "        if count == max_count:\n",
    "            mode_.append(key)\n",
    "        \n",
    "    return mode_"
   ]
  },
  {
   "cell_type": "code",
   "execution_count": 13,
   "id": "c9e706f5",
   "metadata": {},
   "outputs": [
    {
     "data": {
      "text/plain": [
       "[5]"
      ]
     },
     "execution_count": 13,
     "metadata": {},
     "output_type": "execute_result"
    }
   ],
   "source": [
    "lst = [1,2,3,4,5,5,5,5,5,5,5,5]\n",
    "mode(lst)"
   ]
  },
  {
   "cell_type": "code",
   "execution_count": 27,
   "id": "8fadcf21",
   "metadata": {},
   "outputs": [
    {
     "data": {
      "text/plain": [
       "[1, 2, 3, 4, 5]"
      ]
     },
     "execution_count": 27,
     "metadata": {},
     "output_type": "execute_result"
    }
   ],
   "source": [
    "lst = [1,1,2,2,3,3,4,4,5,5]\n",
    "mode(lst)"
   ]
  },
  {
   "cell_type": "markdown",
   "id": "bcf33787",
   "metadata": {},
   "source": [
    "### Variance\n",
    "\n",
    "We define population variance as:\n",
    "\n",
    "$$ \\sigma^2 = \\frac{\\sum_{i=1}^n (X_i - \\bar{X})^2}{n}$$\n",
    "\n",
    "and the sample variance as:\n",
    "\n",
    "$$ S^2 = \\frac{\\sum_{i=1}^n (X_i - \\bar{X})^2}{n-1}$$\n"
   ]
  },
  {
   "cell_type": "code",
   "execution_count": 28,
   "id": "6fd6be12",
   "metadata": {},
   "outputs": [],
   "source": [
    "def variance(lst, sample = True):\n",
    "    mean_ = mean(lst)\n",
    "    n = len(lst)\n",
    "    DoF = n - 1\n",
    "    sum_sq_diff = 0\n",
    "    \n",
    "    for val in lst:\n",
    "        sum_sq_diff += (val - mean_) ** 2\n",
    "    if sample:\n",
    "        variance_ = sum_sq_diff / (n-1)\n",
    "    else:\n",
    "        variance_ = sum_sq_diff / (n)\n",
    "    return variance_"
   ]
  },
  {
   "cell_type": "code",
   "execution_count": 29,
   "id": "5f6ba263",
   "metadata": {},
   "outputs": [
    {
     "data": {
      "text/plain": [
       "(2.2222222222222223, 2.0)"
      ]
     },
     "execution_count": 29,
     "metadata": {},
     "output_type": "execute_result"
    }
   ],
   "source": [
    "variance(lst), variance(lst, sample = False)"
   ]
  },
  {
   "cell_type": "markdown",
   "id": "90da5bc8",
   "metadata": {},
   "source": [
    "### Standard Deviation\n",
    "The standard deviation is square root of the variance"
   ]
  },
  {
   "cell_type": "code",
   "execution_count": 30,
   "id": "c349ed2f",
   "metadata": {},
   "outputs": [],
   "source": [
    "def SD(lst, sample = True):\n",
    "    SD_ = variance(lst, sample) ** (1/2)\n",
    "    return SD_"
   ]
  },
  {
   "cell_type": "code",
   "execution_count": 31,
   "id": "e289d029",
   "metadata": {},
   "outputs": [
    {
     "data": {
      "text/plain": [
       "(1.4907119849998598, 1.4142135623730951)"
      ]
     },
     "execution_count": 31,
     "metadata": {},
     "output_type": "execute_result"
    }
   ],
   "source": [
    "SD(lst), SD(lst, False)"
   ]
  },
  {
   "cell_type": "markdown",
   "id": "55f01102",
   "metadata": {},
   "source": [
    "### Standard Error\n",
    "It is the standard deviation of the probability distribution for the random variable $\\bar{X}$, which represents all possible samples of a single given sample size $n$."
   ]
  },
  {
   "cell_type": "code",
   "execution_count": 32,
   "id": "26d19425",
   "metadata": {},
   "outputs": [],
   "source": [
    "def STE(lst, sample = True):\n",
    "    n = len(lst)\n",
    "    se = SD(lst, sample) / (n ** 0.5)\n",
    "    return se"
   ]
  },
  {
   "cell_type": "code",
   "execution_count": 33,
   "id": "b10899c8",
   "metadata": {},
   "outputs": [
    {
     "data": {
      "text/plain": [
       "(0.4714045207910317, 0.4472135954999579)"
      ]
     },
     "execution_count": 33,
     "metadata": {},
     "output_type": "execute_result"
    }
   ],
   "source": [
    "STE(lst), STE(lst, False)"
   ]
  },
  {
   "cell_type": "markdown",
   "id": "2eac33f8",
   "metadata": {},
   "source": [
    "To calculate covariance, we multiply the sum of the product of the difference between the observed value and the mean of each list for value _i = 1_ through _n = number of observations_:\n",
    "\n",
    "$cov_{pop}(x,y) = \\frac{\\sum_{i=0}^{n-1} (x_{i} - x_{mean})(y_{i} - y_{mean})} {n}$\n",
    "\n",
    "$cov_{sample}(x,y) = \\frac{\\sum_{i=0}^{n-1} (x_{i} - x_{mean})(y_{i} - y_{mean})} {n - 1}$\n"
   ]
  },
  {
   "cell_type": "code",
   "execution_count": 70,
   "id": "a3584f59",
   "metadata": {},
   "outputs": [],
   "source": [
    "def covariance(lst1, lst2, sample = False):\n",
    "    # determine means\n",
    "    mean1 = mean(lst1)\n",
    "    mean2 = mean(lst2)\n",
    "    # make cov 0 so can increment later\n",
    "    cov = 0\n",
    "    n1 = len(lst1)\n",
    "    n2 = len(lst2)\n",
    "    # lists need be same length\n",
    "    if n1 == n2:\n",
    "        n = n1\n",
    "        for i in range(n):\n",
    "            cov += (lst1[i] - mean1) * (lst2[i] - mean2)\n",
    "        if sample == False:\n",
    "            cov = cov / n\n",
    "        # different denom for sample\n",
    "        else:\n",
    "            cov = cov / (n - 1)\n",
    "        return cov\n",
    "    else:\n",
    "        print(\"List lengths are not equal\")\n",
    "        print(\"List1:\", n1)\n",
    "        print(\"List2:\", n2)"
   ]
  },
  {
   "cell_type": "code",
   "execution_count": 60,
   "id": "26216456",
   "metadata": {},
   "outputs": [
    {
     "data": {
      "text/plain": [
       "1.3"
      ]
     },
     "execution_count": 60,
     "metadata": {},
     "output_type": "execute_result"
    }
   ],
   "source": [
    "covariance(x1, lst)"
   ]
  },
  {
   "cell_type": "markdown",
   "id": "1116fed1",
   "metadata": {},
   "source": [
    "### Correlation\n",
    "We can transform the covariance into a correlation value by dividing by the product of the standard deviations. \n",
    "\n",
    "$corr_{pop}(x,y) = \\frac{cov_{pop}(x, y)} {\\sigma_x \\sigma_y}$"
   ]
  },
  {
   "cell_type": "code",
   "execution_count": 61,
   "id": "7a3ca179",
   "metadata": {},
   "outputs": [],
   "source": [
    "def correlation(lst1, lst2):\n",
    "    cov = covariance(lst1, lst2)\n",
    "    SD1 = SD(lst1)\n",
    "    SD2 = SD(lst2)\n",
    "    corr = cov / (SD1 * SD2)\n",
    "    return corr"
   ]
  },
  {
   "cell_type": "code",
   "execution_count": 62,
   "id": "903dd9f1",
   "metadata": {},
   "outputs": [
    {
     "data": {
      "text/plain": [
       "0.0376723973495927"
      ]
     },
     "execution_count": 62,
     "metadata": {},
     "output_type": "execute_result"
    }
   ],
   "source": [
    "x1 = [random.randint(0,100) for i in range(10)]\n",
    "x2 = [random.randint(0,100) for i in range(10)]\n",
    "correlation(x1, x2)"
   ]
  },
  {
   "cell_type": "markdown",
   "id": "71f9f2a4",
   "metadata": {},
   "source": [
    "### Skewness\n",
    "Skewness is a measure of asymmetry of a population of data about the mean. It is the expected value of the cube of the standard deviation.\n",
    "\n",
    "$skew_{pop}(x,y) = \\frac{\\sum_{i=0}^{n-1}{(x_{i} - x_{mean})^3}} {n\\sigma^3}$\n",
    "\n",
    "\n",
    "$skew_{sample}(x,y) = \\frac{\\sum_{i=0}^{n-1}{(x_{i} - x_{mean})^3}} {(n-1)(n-2)\\sigma^3}$"
   ]
  },
  {
   "cell_type": "code",
   "execution_count": 63,
   "id": "92d6481f",
   "metadata": {},
   "outputs": [],
   "source": [
    "def skewness(lst, sample = True):\n",
    "    mean_ = mean(lst)\n",
    "    SD_ = SD(lst, sample)\n",
    "    skew = 0\n",
    "    n = len(lst)\n",
    "    for val in lst:\n",
    "        skew += (val - mean_) ** 3\n",
    "    skew = skew / (n * SD_**3) if not sample else n * skew / ((n - 1)*(n - 1) * SD_ ** 3)\n",
    "    return skew"
   ]
  },
  {
   "cell_type": "code",
   "execution_count": 64,
   "id": "7fdf8564",
   "metadata": {},
   "outputs": [
    {
     "data": {
      "text/plain": [
       "(-1.3187112459037245, -1.2510393339402472)"
      ]
     },
     "execution_count": 64,
     "metadata": {},
     "output_type": "execute_result"
    }
   ],
   "source": [
    "skewness(x1), skewness(x1, False)"
   ]
  },
  {
   "cell_type": "code",
   "execution_count": 65,
   "id": "26e4efd8",
   "metadata": {},
   "outputs": [
    {
     "data": {
      "text/plain": [
       "(-0.06380741276716845, -0.06053302678402782)"
      ]
     },
     "execution_count": 65,
     "metadata": {},
     "output_type": "execute_result"
    }
   ],
   "source": [
    "skewness(x2), skewness(x2, False)"
   ]
  },
  {
   "cell_type": "markdown",
   "id": "d79634bc",
   "metadata": {},
   "source": [
    "### Kurtosis\n",
    "Kurtosis is an absolute measure of the weight of outliers. While skewness describes the ‘lean’ of a distribution, kurtosis describes the weight of a distribution that is held in the tails.\n",
    "\n",
    "$kurt_{pop} = \\frac{\\sum_{i=0}^{n-1} (x_{i} - x_{mean})^4} {n\\sigma^4}$\n",
    "\n",
    "$kurt_{sample} = \\frac{n(n+1)\\sum_{i=0}^{n-1} (x_{i} - x_{mean})^4} {(n - 1)(n - 2)( n - 3)\\sigma^4} - \\frac{3(n - 1)^2}{(n - 2)(n - 3)}$\n"
   ]
  },
  {
   "cell_type": "code",
   "execution_count": 68,
   "id": "36d045d7",
   "metadata": {},
   "outputs": [],
   "source": [
    "def kurtosis(lst, sample = True):\n",
    "    mean_ = mean(lst)\n",
    "    kurt = 0\n",
    "    SD_ = SD(lst, sample)\n",
    "    n = len(lst)\n",
    "    for x in lst:\n",
    "        kurt += (x - mean_) ** 4\n",
    "    kurt = kurt / (n * SD_ ** 4) if  sample == False else  n * (n + 1) * kurt / \\\n",
    "    ((n - 1) * (n - 2) * (n - 3) * (SD_ ** 4)) - (3 *(n - 1) ** 2) / ((n - 2) * (n - 3))\n",
    "    \n",
    "    return kurt"
   ]
  },
  {
   "cell_type": "code",
   "execution_count": 71,
   "id": "cdc3e8a5",
   "metadata": {},
   "outputs": [
    {
     "data": {
      "text/plain": [
       "(2.0036371917350966, 3.5879159872440947)"
      ]
     },
     "execution_count": 71,
     "metadata": {},
     "output_type": "execute_result"
    }
   ],
   "source": [
    "kurtosis(x1), kurtosis(x1, False)"
   ]
  },
  {
   "cell_type": "markdown",
   "id": "7f96ac3b",
   "metadata": {},
   "source": [
    "## Using A Nested Dictionary To Organize Statistics\n"
   ]
  },
  {
   "cell_type": "code",
   "execution_count": 74,
   "id": "e8accb51",
   "metadata": {},
   "outputs": [
    {
     "data": {
      "text/html": [
       "<div>\n",
       "<style scoped>\n",
       "    .dataframe tbody tr th:only-of-type {\n",
       "        vertical-align: middle;\n",
       "    }\n",
       "\n",
       "    .dataframe tbody tr th {\n",
       "        vertical-align: top;\n",
       "    }\n",
       "\n",
       "    .dataframe thead th {\n",
       "        text-align: right;\n",
       "    }\n",
       "</style>\n",
       "<table border=\"1\" class=\"dataframe\">\n",
       "  <thead>\n",
       "    <tr style=\"text-align: right;\">\n",
       "      <th></th>\n",
       "      <th>List1</th>\n",
       "      <th>List2</th>\n",
       "    </tr>\n",
       "  </thead>\n",
       "  <tbody>\n",
       "    <tr>\n",
       "      <th>mean</th>\n",
       "      <td>67.400</td>\n",
       "      <td>57.400</td>\n",
       "    </tr>\n",
       "    <tr>\n",
       "      <th>median</th>\n",
       "      <td>79.000</td>\n",
       "      <td>59.000</td>\n",
       "    </tr>\n",
       "    <tr>\n",
       "      <th>variance</th>\n",
       "      <td>747.440</td>\n",
       "      <td>980.840</td>\n",
       "    </tr>\n",
       "    <tr>\n",
       "      <th>S.D.</th>\n",
       "      <td>27.339</td>\n",
       "      <td>31.318</td>\n",
       "    </tr>\n",
       "    <tr>\n",
       "      <th>skewness</th>\n",
       "      <td>-1.251</td>\n",
       "      <td>-0.061</td>\n",
       "    </tr>\n",
       "    <tr>\n",
       "      <th>kurtosis</th>\n",
       "      <td>3.588</td>\n",
       "      <td>1.739</td>\n",
       "    </tr>\n",
       "  </tbody>\n",
       "</table>\n",
       "</div>"
      ],
      "text/plain": [
       "            List1    List2\n",
       "mean       67.400   57.400\n",
       "median     79.000   59.000\n",
       "variance  747.440  980.840\n",
       "S.D.       27.339   31.318\n",
       "skewness   -1.251   -0.061\n",
       "kurtosis    3.588    1.739"
      ]
     },
     "execution_count": 74,
     "metadata": {},
     "output_type": "execute_result"
    }
   ],
   "source": [
    "import pandas as pd\n",
    "def gather_statistics(df, sample = False, round_dig = 3):\n",
    "    dct = {key:{} for key in df}\n",
    "    for key, val in df.items():\n",
    "        val = val.dropna(axis=0)\n",
    "        dct[key][\"mean\"] = round(mean(val), round_dig)\n",
    "        dct[key][\"median\"] = round(median(val), round_dig)\n",
    "        dct[key][\"variance\"] = round(variance(val, sample), round_dig)\n",
    "        dct[key][\"S.D.\"] = round(SD(val, sample), round_dig)\n",
    "        dct[key][\"skewness\"] = round(skewness(val, sample), round_dig)\n",
    "        dct[key][\"kurtosis\"] = round(kurtosis(val, sample), round_dig)\n",
    "    stats_df = pd.DataFrame(dct)\n",
    "    return stats_df\n",
    "data = pd.DataFrame([x1, x2], index = [\"List1\", \"List2\"]).T\n",
    "gather_statistics(data)"
   ]
  },
  {
   "cell_type": "code",
   "execution_count": 75,
   "id": "d99afc88",
   "metadata": {},
   "outputs": [
    {
     "data": {
      "text/html": [
       "<div>\n",
       "<style scoped>\n",
       "    .dataframe tbody tr th:only-of-type {\n",
       "        vertical-align: middle;\n",
       "    }\n",
       "\n",
       "    .dataframe tbody tr th {\n",
       "        vertical-align: top;\n",
       "    }\n",
       "\n",
       "    .dataframe thead th {\n",
       "        text-align: right;\n",
       "    }\n",
       "</style>\n",
       "<table border=\"1\" class=\"dataframe\">\n",
       "  <thead>\n",
       "    <tr style=\"text-align: right;\">\n",
       "      <th></th>\n",
       "      <th>List1</th>\n",
       "      <th>List2</th>\n",
       "    </tr>\n",
       "  </thead>\n",
       "  <tbody>\n",
       "    <tr>\n",
       "      <th>mean</th>\n",
       "      <td>67.40000</td>\n",
       "      <td>57.40000</td>\n",
       "    </tr>\n",
       "    <tr>\n",
       "      <th>median</th>\n",
       "      <td>79.00000</td>\n",
       "      <td>59.00000</td>\n",
       "    </tr>\n",
       "    <tr>\n",
       "      <th>variance</th>\n",
       "      <td>747.44000</td>\n",
       "      <td>980.84000</td>\n",
       "    </tr>\n",
       "    <tr>\n",
       "      <th>S.D.</th>\n",
       "      <td>27.33935</td>\n",
       "      <td>31.31837</td>\n",
       "    </tr>\n",
       "    <tr>\n",
       "      <th>skewness</th>\n",
       "      <td>-1.25104</td>\n",
       "      <td>-0.06053</td>\n",
       "    </tr>\n",
       "    <tr>\n",
       "      <th>kurtosis</th>\n",
       "      <td>3.58792</td>\n",
       "      <td>1.73884</td>\n",
       "    </tr>\n",
       "  </tbody>\n",
       "</table>\n",
       "</div>"
      ],
      "text/plain": [
       "              List1      List2\n",
       "mean       67.40000   57.40000\n",
       "median     79.00000   59.00000\n",
       "variance  747.44000  980.84000\n",
       "S.D.       27.33935   31.31837\n",
       "skewness   -1.25104   -0.06053\n",
       "kurtosis    3.58792    1.73884"
      ]
     },
     "execution_count": 75,
     "metadata": {},
     "output_type": "execute_result"
    }
   ],
   "source": [
    "gather_statistics(data, False, 5)"
   ]
  },
  {
   "cell_type": "markdown",
   "id": "abc09bc0",
   "metadata": {},
   "source": [
    "## Fraser Economic Freedom of the World"
   ]
  },
  {
   "cell_type": "code",
   "execution_count": 76,
   "id": "20b91d61",
   "metadata": {
    "scrolled": true
   },
   "outputs": [
    {
     "ename": "ModuleNotFoundError",
     "evalue": "No module named 'stats'",
     "output_type": "error",
     "traceback": [
      "\u001b[1;31m---------------------------------------------------------------------------\u001b[0m",
      "\u001b[1;31mModuleNotFoundError\u001b[0m                       Traceback (most recent call last)",
      "Cell \u001b[1;32mIn[76], line 2\u001b[0m\n\u001b[0;32m      1\u001b[0m \u001b[38;5;28;01mimport\u001b[39;00m \u001b[38;5;21;01mnumpy\u001b[39;00m \u001b[38;5;28;01mas\u001b[39;00m \u001b[38;5;21;01mnp\u001b[39;00m\n\u001b[1;32m----> 2\u001b[0m \u001b[38;5;28;01mimport\u001b[39;00m \u001b[38;5;21;01mstats\u001b[39;00m \u001b[38;5;28;01mas\u001b[39;00m \u001b[38;5;21;01mstat\u001b[39;00m\n",
      "\u001b[1;31mModuleNotFoundError\u001b[0m: No module named 'stats'"
     ]
    }
   ],
   "source": [
    "import numpy as np\n",
    "import stats as stat"
   ]
  },
  {
   "cell_type": "code",
   "execution_count": 81,
   "id": "dc219201",
   "metadata": {
    "scrolled": false
   },
   "outputs": [
    {
     "data": {
      "text/html": [
       "<div>\n",
       "<style scoped>\n",
       "    .dataframe tbody tr th:only-of-type {\n",
       "        vertical-align: middle;\n",
       "    }\n",
       "\n",
       "    .dataframe tbody tr th {\n",
       "        vertical-align: top;\n",
       "    }\n",
       "\n",
       "    .dataframe thead th {\n",
       "        text-align: right;\n",
       "    }\n",
       "</style>\n",
       "<table border=\"1\" class=\"dataframe\">\n",
       "  <thead>\n",
       "    <tr style=\"text-align: right;\">\n",
       "      <th></th>\n",
       "      <th></th>\n",
       "      <th>Unnamed: 0</th>\n",
       "      <th>ISO Code 2</th>\n",
       "      <th>Countries</th>\n",
       "      <th>Economic Freedom Summary Index</th>\n",
       "      <th>Rank</th>\n",
       "      <th>Quartile</th>\n",
       "      <th>1A Government Consumption</th>\n",
       "      <th>data</th>\n",
       "      <th>1B  Transfers and subsidies</th>\n",
       "      <th>data.1</th>\n",
       "      <th>...</th>\n",
       "      <th>Unnamed: 101</th>\n",
       "      <th>Unnamed: 102</th>\n",
       "      <th>Unnamed: 103</th>\n",
       "      <th>Unnamed: 104</th>\n",
       "      <th>Unnamed: 105</th>\n",
       "      <th>Unnamed: 106</th>\n",
       "      <th>Unnamed: 107</th>\n",
       "      <th>Unnamed: 108</th>\n",
       "      <th>Unnamed: 109</th>\n",
       "      <th>Unnamed: 110</th>\n",
       "    </tr>\n",
       "    <tr>\n",
       "      <th>Year</th>\n",
       "      <th>ISO Code 3</th>\n",
       "      <th></th>\n",
       "      <th></th>\n",
       "      <th></th>\n",
       "      <th></th>\n",
       "      <th></th>\n",
       "      <th></th>\n",
       "      <th></th>\n",
       "      <th></th>\n",
       "      <th></th>\n",
       "      <th></th>\n",
       "      <th></th>\n",
       "      <th></th>\n",
       "      <th></th>\n",
       "      <th></th>\n",
       "      <th></th>\n",
       "      <th></th>\n",
       "      <th></th>\n",
       "      <th></th>\n",
       "      <th></th>\n",
       "      <th></th>\n",
       "      <th></th>\n",
       "    </tr>\n",
       "  </thead>\n",
       "  <tbody>\n",
       "    <tr>\n",
       "      <th rowspan=\"5\" valign=\"top\">2020</th>\n",
       "      <th>ALB</th>\n",
       "      <td>NaN</td>\n",
       "      <td>AL</td>\n",
       "      <td>Albania</td>\n",
       "      <td>7.64</td>\n",
       "      <td>26.0</td>\n",
       "      <td>1.0</td>\n",
       "      <td>8.026471</td>\n",
       "      <td>12.710000</td>\n",
       "      <td>6.978202</td>\n",
       "      <td>11.590000</td>\n",
       "      <td>...</td>\n",
       "      <td>2011.00</td>\n",
       "      <td>2012.00</td>\n",
       "      <td>2013.00</td>\n",
       "      <td>2014.00</td>\n",
       "      <td>2015.00</td>\n",
       "      <td>2016.0</td>\n",
       "      <td>2017.0</td>\n",
       "      <td>2018.0</td>\n",
       "      <td>2019.00</td>\n",
       "      <td>2020.00</td>\n",
       "    </tr>\n",
       "    <tr>\n",
       "      <th>DZA</th>\n",
       "      <td>NaN</td>\n",
       "      <td>DZ</td>\n",
       "      <td>Algeria</td>\n",
       "      <td>5.12</td>\n",
       "      <td>157.0</td>\n",
       "      <td>4.0</td>\n",
       "      <td>3.102941</td>\n",
       "      <td>29.450000</td>\n",
       "      <td>7.817129</td>\n",
       "      <td>8.511137</td>\n",
       "      <td>...</td>\n",
       "      <td>153.00</td>\n",
       "      <td>153.00</td>\n",
       "      <td>157.00</td>\n",
       "      <td>159.00</td>\n",
       "      <td>159.00</td>\n",
       "      <td>162.0</td>\n",
       "      <td>162.0</td>\n",
       "      <td>162.0</td>\n",
       "      <td>165.00</td>\n",
       "      <td>165.00</td>\n",
       "    </tr>\n",
       "    <tr>\n",
       "      <th>AGO</th>\n",
       "      <td>NaN</td>\n",
       "      <td>AO</td>\n",
       "      <td>Angola</td>\n",
       "      <td>5.91</td>\n",
       "      <td>138.0</td>\n",
       "      <td>4.0</td>\n",
       "      <td>7.700000</td>\n",
       "      <td>13.820000</td>\n",
       "      <td>9.702997</td>\n",
       "      <td>1.590000</td>\n",
       "      <td>...</td>\n",
       "      <td>38.25</td>\n",
       "      <td>38.25</td>\n",
       "      <td>39.25</td>\n",
       "      <td>39.75</td>\n",
       "      <td>39.75</td>\n",
       "      <td>40.5</td>\n",
       "      <td>40.5</td>\n",
       "      <td>40.5</td>\n",
       "      <td>41.25</td>\n",
       "      <td>41.25</td>\n",
       "    </tr>\n",
       "    <tr>\n",
       "      <th>ARG</th>\n",
       "      <td>NaN</td>\n",
       "      <td>AR</td>\n",
       "      <td>Argentina</td>\n",
       "      <td>4.87</td>\n",
       "      <td>161.0</td>\n",
       "      <td>4.0</td>\n",
       "      <td>5.985294</td>\n",
       "      <td>19.650000</td>\n",
       "      <td>6.493188</td>\n",
       "      <td>13.370000</td>\n",
       "      <td>...</td>\n",
       "      <td>114.75</td>\n",
       "      <td>114.75</td>\n",
       "      <td>117.75</td>\n",
       "      <td>119.25</td>\n",
       "      <td>119.25</td>\n",
       "      <td>121.5</td>\n",
       "      <td>121.5</td>\n",
       "      <td>121.5</td>\n",
       "      <td>123.75</td>\n",
       "      <td>123.75</td>\n",
       "    </tr>\n",
       "    <tr>\n",
       "      <th>ARM</th>\n",
       "      <td>NaN</td>\n",
       "      <td>AM</td>\n",
       "      <td>Armenia</td>\n",
       "      <td>7.84</td>\n",
       "      <td>11.0</td>\n",
       "      <td>1.0</td>\n",
       "      <td>6.605882</td>\n",
       "      <td>17.540000</td>\n",
       "      <td>7.223433</td>\n",
       "      <td>10.690000</td>\n",
       "      <td>...</td>\n",
       "      <td>76.50</td>\n",
       "      <td>76.50</td>\n",
       "      <td>78.50</td>\n",
       "      <td>79.50</td>\n",
       "      <td>79.50</td>\n",
       "      <td>81.0</td>\n",
       "      <td>81.0</td>\n",
       "      <td>81.0</td>\n",
       "      <td>82.50</td>\n",
       "      <td>82.50</td>\n",
       "    </tr>\n",
       "    <tr>\n",
       "      <th>...</th>\n",
       "      <th>...</th>\n",
       "      <td>...</td>\n",
       "      <td>...</td>\n",
       "      <td>...</td>\n",
       "      <td>...</td>\n",
       "      <td>...</td>\n",
       "      <td>...</td>\n",
       "      <td>...</td>\n",
       "      <td>...</td>\n",
       "      <td>...</td>\n",
       "      <td>...</td>\n",
       "      <td>...</td>\n",
       "      <td>...</td>\n",
       "      <td>...</td>\n",
       "      <td>...</td>\n",
       "      <td>...</td>\n",
       "      <td>...</td>\n",
       "      <td>...</td>\n",
       "      <td>...</td>\n",
       "      <td>...</td>\n",
       "      <td>...</td>\n",
       "      <td>...</td>\n",
       "    </tr>\n",
       "    <tr>\n",
       "      <th rowspan=\"5\" valign=\"top\">1970</th>\n",
       "      <th>VEN</th>\n",
       "      <td>NaN</td>\n",
       "      <td>VE</td>\n",
       "      <td>Venezuela, RB</td>\n",
       "      <td>7.19</td>\n",
       "      <td>13.0</td>\n",
       "      <td>1.0</td>\n",
       "      <td>6.602003</td>\n",
       "      <td>17.553191</td>\n",
       "      <td>9.827430</td>\n",
       "      <td>1.133333</td>\n",
       "      <td>...</td>\n",
       "      <td>NaN</td>\n",
       "      <td>NaN</td>\n",
       "      <td>NaN</td>\n",
       "      <td>NaN</td>\n",
       "      <td>NaN</td>\n",
       "      <td>NaN</td>\n",
       "      <td>NaN</td>\n",
       "      <td>NaN</td>\n",
       "      <td>NaN</td>\n",
       "      <td>NaN</td>\n",
       "    </tr>\n",
       "    <tr>\n",
       "      <th>VNM</th>\n",
       "      <td>NaN</td>\n",
       "      <td>VN</td>\n",
       "      <td>Vietnam</td>\n",
       "      <td>NaN</td>\n",
       "      <td>NaN</td>\n",
       "      <td>NaN</td>\n",
       "      <td>NaN</td>\n",
       "      <td>NaN</td>\n",
       "      <td>NaN</td>\n",
       "      <td>NaN</td>\n",
       "      <td>...</td>\n",
       "      <td>NaN</td>\n",
       "      <td>NaN</td>\n",
       "      <td>NaN</td>\n",
       "      <td>NaN</td>\n",
       "      <td>NaN</td>\n",
       "      <td>NaN</td>\n",
       "      <td>NaN</td>\n",
       "      <td>NaN</td>\n",
       "      <td>NaN</td>\n",
       "      <td>NaN</td>\n",
       "    </tr>\n",
       "    <tr>\n",
       "      <th>YEM</th>\n",
       "      <td>NaN</td>\n",
       "      <td>YE</td>\n",
       "      <td>Yemen, Rep.</td>\n",
       "      <td>NaN</td>\n",
       "      <td>NaN</td>\n",
       "      <td>NaN</td>\n",
       "      <td>NaN</td>\n",
       "      <td>NaN</td>\n",
       "      <td>NaN</td>\n",
       "      <td>NaN</td>\n",
       "      <td>...</td>\n",
       "      <td>NaN</td>\n",
       "      <td>NaN</td>\n",
       "      <td>NaN</td>\n",
       "      <td>NaN</td>\n",
       "      <td>NaN</td>\n",
       "      <td>NaN</td>\n",
       "      <td>NaN</td>\n",
       "      <td>NaN</td>\n",
       "      <td>NaN</td>\n",
       "      <td>NaN</td>\n",
       "    </tr>\n",
       "    <tr>\n",
       "      <th>ZMB</th>\n",
       "      <td>NaN</td>\n",
       "      <td>ZM</td>\n",
       "      <td>Zambia</td>\n",
       "      <td>5.33</td>\n",
       "      <td>54.0</td>\n",
       "      <td>3.0</td>\n",
       "      <td>3.448131</td>\n",
       "      <td>28.276353</td>\n",
       "      <td>9.105430</td>\n",
       "      <td>3.783070</td>\n",
       "      <td>...</td>\n",
       "      <td>NaN</td>\n",
       "      <td>NaN</td>\n",
       "      <td>NaN</td>\n",
       "      <td>NaN</td>\n",
       "      <td>NaN</td>\n",
       "      <td>NaN</td>\n",
       "      <td>NaN</td>\n",
       "      <td>NaN</td>\n",
       "      <td>NaN</td>\n",
       "      <td>NaN</td>\n",
       "    </tr>\n",
       "    <tr>\n",
       "      <th>ZWE</th>\n",
       "      <td>NaN</td>\n",
       "      <td>ZW</td>\n",
       "      <td>Zimbabwe</td>\n",
       "      <td>NaN</td>\n",
       "      <td>NaN</td>\n",
       "      <td>NaN</td>\n",
       "      <td>7.806922</td>\n",
       "      <td>13.456464</td>\n",
       "      <td>NaN</td>\n",
       "      <td>NaN</td>\n",
       "      <td>...</td>\n",
       "      <td>NaN</td>\n",
       "      <td>NaN</td>\n",
       "      <td>NaN</td>\n",
       "      <td>NaN</td>\n",
       "      <td>NaN</td>\n",
       "      <td>NaN</td>\n",
       "      <td>NaN</td>\n",
       "      <td>NaN</td>\n",
       "      <td>NaN</td>\n",
       "      <td>NaN</td>\n",
       "    </tr>\n",
       "  </tbody>\n",
       "</table>\n",
       "<p>4455 rows × 109 columns</p>\n",
       "</div>"
      ],
      "text/plain": [
       "                 Unnamed: 0 ISO Code 2      Countries  \\\n",
       "Year ISO Code 3                                         \n",
       "2020 ALB                NaN         AL        Albania   \n",
       "     DZA                NaN         DZ        Algeria   \n",
       "     AGO                NaN         AO         Angola   \n",
       "     ARG                NaN         AR      Argentina   \n",
       "     ARM                NaN         AM        Armenia   \n",
       "...                     ...        ...            ...   \n",
       "1970 VEN                NaN         VE  Venezuela, RB   \n",
       "     VNM                NaN         VN        Vietnam   \n",
       "     YEM                NaN         YE    Yemen, Rep.   \n",
       "     ZMB                NaN         ZM         Zambia   \n",
       "     ZWE                NaN         ZW       Zimbabwe   \n",
       "\n",
       "                 Economic Freedom Summary Index   Rank  Quartile  \\\n",
       "Year ISO Code 3                                                    \n",
       "2020 ALB                                   7.64   26.0       1.0   \n",
       "     DZA                                   5.12  157.0       4.0   \n",
       "     AGO                                   5.91  138.0       4.0   \n",
       "     ARG                                   4.87  161.0       4.0   \n",
       "     ARM                                   7.84   11.0       1.0   \n",
       "...                                         ...    ...       ...   \n",
       "1970 VEN                                   7.19   13.0       1.0   \n",
       "     VNM                                    NaN    NaN       NaN   \n",
       "     YEM                                    NaN    NaN       NaN   \n",
       "     ZMB                                   5.33   54.0       3.0   \n",
       "     ZWE                                    NaN    NaN       NaN   \n",
       "\n",
       "                 1A Government Consumption       data  \\\n",
       "Year ISO Code 3                                         \n",
       "2020 ALB                          8.026471  12.710000   \n",
       "     DZA                          3.102941  29.450000   \n",
       "     AGO                          7.700000  13.820000   \n",
       "     ARG                          5.985294  19.650000   \n",
       "     ARM                          6.605882  17.540000   \n",
       "...                                    ...        ...   \n",
       "1970 VEN                          6.602003  17.553191   \n",
       "     VNM                               NaN        NaN   \n",
       "     YEM                               NaN        NaN   \n",
       "     ZMB                          3.448131  28.276353   \n",
       "     ZWE                          7.806922  13.456464   \n",
       "\n",
       "                 1B  Transfers and subsidies     data.1  ...  Unnamed: 101  \\\n",
       "Year ISO Code 3                                          ...                 \n",
       "2020 ALB                            6.978202  11.590000  ...       2011.00   \n",
       "     DZA                            7.817129   8.511137  ...        153.00   \n",
       "     AGO                            9.702997   1.590000  ...         38.25   \n",
       "     ARG                            6.493188  13.370000  ...        114.75   \n",
       "     ARM                            7.223433  10.690000  ...         76.50   \n",
       "...                                      ...        ...  ...           ...   \n",
       "1970 VEN                            9.827430   1.133333  ...           NaN   \n",
       "     VNM                                 NaN        NaN  ...           NaN   \n",
       "     YEM                                 NaN        NaN  ...           NaN   \n",
       "     ZMB                            9.105430   3.783070  ...           NaN   \n",
       "     ZWE                                 NaN        NaN  ...           NaN   \n",
       "\n",
       "                 Unnamed: 102  Unnamed: 103 Unnamed: 104  Unnamed: 105  \\\n",
       "Year ISO Code 3                                                          \n",
       "2020 ALB              2012.00       2013.00      2014.00       2015.00   \n",
       "     DZA               153.00        157.00       159.00        159.00   \n",
       "     AGO                38.25         39.25        39.75         39.75   \n",
       "     ARG               114.75        117.75       119.25        119.25   \n",
       "     ARM                76.50         78.50        79.50         79.50   \n",
       "...                       ...           ...          ...           ...   \n",
       "1970 VEN                  NaN           NaN          NaN           NaN   \n",
       "     VNM                  NaN           NaN          NaN           NaN   \n",
       "     YEM                  NaN           NaN          NaN           NaN   \n",
       "     ZMB                  NaN           NaN          NaN           NaN   \n",
       "     ZWE                  NaN           NaN          NaN           NaN   \n",
       "\n",
       "                Unnamed: 106  Unnamed: 107  Unnamed: 108  Unnamed: 109  \\\n",
       "Year ISO Code 3                                                          \n",
       "2020 ALB              2016.0        2017.0        2018.0       2019.00   \n",
       "     DZA               162.0         162.0         162.0        165.00   \n",
       "     AGO                40.5          40.5          40.5         41.25   \n",
       "     ARG               121.5         121.5         121.5        123.75   \n",
       "     ARM                81.0          81.0          81.0         82.50   \n",
       "...                      ...           ...           ...           ...   \n",
       "1970 VEN                 NaN           NaN           NaN           NaN   \n",
       "     VNM                 NaN           NaN           NaN           NaN   \n",
       "     YEM                 NaN           NaN           NaN           NaN   \n",
       "     ZMB                 NaN           NaN           NaN           NaN   \n",
       "     ZWE                 NaN           NaN           NaN           NaN   \n",
       "\n",
       "                 Unnamed: 110  \n",
       "Year ISO Code 3                \n",
       "2020 ALB              2020.00  \n",
       "     DZA               165.00  \n",
       "     AGO                41.25  \n",
       "     ARG               123.75  \n",
       "     ARM                82.50  \n",
       "...                       ...  \n",
       "1970 VEN                  NaN  \n",
       "     VNM                  NaN  \n",
       "     YEM                  NaN  \n",
       "     ZMB                  NaN  \n",
       "     ZWE                  NaN  \n",
       "\n",
       "[4455 rows x 109 columns]"
      ]
     },
     "execution_count": 81,
     "metadata": {},
     "output_type": "execute_result"
    }
   ],
   "source": [
    "filename = \"EFW.xlsx\"\n",
    "data = pd.read_excel(filename, index_col = [1,3], header = [4])\n",
    "data"
   ]
  },
  {
   "cell_type": "code",
   "execution_count": 82,
   "id": "c187d72d",
   "metadata": {},
   "outputs": [
    {
     "data": {
      "text/html": [
       "<div>\n",
       "<style scoped>\n",
       "    .dataframe tbody tr th:only-of-type {\n",
       "        vertical-align: middle;\n",
       "    }\n",
       "\n",
       "    .dataframe tbody tr th {\n",
       "        vertical-align: top;\n",
       "    }\n",
       "\n",
       "    .dataframe thead th {\n",
       "        text-align: right;\n",
       "    }\n",
       "</style>\n",
       "<table border=\"1\" class=\"dataframe\">\n",
       "  <thead>\n",
       "    <tr style=\"text-align: right;\">\n",
       "      <th></th>\n",
       "      <th>Year</th>\n",
       "      <th>ISO_Code_2</th>\n",
       "      <th>ISO_Code_3</th>\n",
       "      <th>World Bank Region</th>\n",
       "      <th>World Bank Current Income Classification, 1990-present (L=Low income, LM=Lower middle income, UM=Upper middle income, H=High income)</th>\n",
       "      <th>Countries</th>\n",
       "      <th>Panel Data Summary Index</th>\n",
       "      <th>Area 1</th>\n",
       "      <th>Area 2</th>\n",
       "      <th>Area 3</th>\n",
       "      <th>Area 4</th>\n",
       "      <th>Area 5</th>\n",
       "      <th>Standard Deviation of the 5 EFW Areas</th>\n",
       "    </tr>\n",
       "  </thead>\n",
       "  <tbody>\n",
       "    <tr>\n",
       "      <th>0</th>\n",
       "      <td>2020</td>\n",
       "      <td>AL</td>\n",
       "      <td>ALB</td>\n",
       "      <td>Europe &amp; Central Asia</td>\n",
       "      <td>UM</td>\n",
       "      <td>Albania</td>\n",
       "      <td>7.640000</td>\n",
       "      <td>7.817077</td>\n",
       "      <td>5.260351</td>\n",
       "      <td>9.788269</td>\n",
       "      <td>8.222499</td>\n",
       "      <td>7.112958</td>\n",
       "      <td>1.652742</td>\n",
       "    </tr>\n",
       "    <tr>\n",
       "      <th>1</th>\n",
       "      <td>2020</td>\n",
       "      <td>DZ</td>\n",
       "      <td>DZA</td>\n",
       "      <td>Middle East &amp; North Africa</td>\n",
       "      <td>LM</td>\n",
       "      <td>Algeria</td>\n",
       "      <td>5.120000</td>\n",
       "      <td>4.409943</td>\n",
       "      <td>4.131760</td>\n",
       "      <td>7.630287</td>\n",
       "      <td>3.639507</td>\n",
       "      <td>5.778953</td>\n",
       "      <td>1.613103</td>\n",
       "    </tr>\n",
       "    <tr>\n",
       "      <th>2</th>\n",
       "      <td>2020</td>\n",
       "      <td>AO</td>\n",
       "      <td>AGO</td>\n",
       "      <td>Sub-Saharan Africa</td>\n",
       "      <td>LM</td>\n",
       "      <td>Angola</td>\n",
       "      <td>5.910000</td>\n",
       "      <td>8.133385</td>\n",
       "      <td>3.705161</td>\n",
       "      <td>6.087996</td>\n",
       "      <td>5.373190</td>\n",
       "      <td>6.227545</td>\n",
       "      <td>1.598854</td>\n",
       "    </tr>\n",
       "    <tr>\n",
       "      <th>3</th>\n",
       "      <td>2020</td>\n",
       "      <td>AR</td>\n",
       "      <td>ARG</td>\n",
       "      <td>Latin America &amp; the Caribbean</td>\n",
       "      <td>UM</td>\n",
       "      <td>Argentina</td>\n",
       "      <td>4.870000</td>\n",
       "      <td>6.483768</td>\n",
       "      <td>4.796454</td>\n",
       "      <td>4.516018</td>\n",
       "      <td>3.086907</td>\n",
       "      <td>5.490538</td>\n",
       "      <td>1.254924</td>\n",
       "    </tr>\n",
       "    <tr>\n",
       "      <th>4</th>\n",
       "      <td>2020</td>\n",
       "      <td>AM</td>\n",
       "      <td>ARM</td>\n",
       "      <td>Europe &amp; Central Asia</td>\n",
       "      <td>UM</td>\n",
       "      <td>Armenia</td>\n",
       "      <td>7.840000</td>\n",
       "      <td>7.975292</td>\n",
       "      <td>6.236215</td>\n",
       "      <td>9.553009</td>\n",
       "      <td>7.692708</td>\n",
       "      <td>7.756333</td>\n",
       "      <td>1.178292</td>\n",
       "    </tr>\n",
       "    <tr>\n",
       "      <th>...</th>\n",
       "      <td>...</td>\n",
       "      <td>...</td>\n",
       "      <td>...</td>\n",
       "      <td>...</td>\n",
       "      <td>...</td>\n",
       "      <td>...</td>\n",
       "      <td>...</td>\n",
       "      <td>...</td>\n",
       "      <td>...</td>\n",
       "      <td>...</td>\n",
       "      <td>...</td>\n",
       "      <td>...</td>\n",
       "      <td>...</td>\n",
       "    </tr>\n",
       "    <tr>\n",
       "      <th>4450</th>\n",
       "      <td>1970</td>\n",
       "      <td>VE</td>\n",
       "      <td>VEN</td>\n",
       "      <td>Latin America &amp; the Caribbean</td>\n",
       "      <td>NaN</td>\n",
       "      <td>Venezuela, RB</td>\n",
       "      <td>7.242943</td>\n",
       "      <td>8.349529</td>\n",
       "      <td>5.003088</td>\n",
       "      <td>9.621851</td>\n",
       "      <td>7.895993</td>\n",
       "      <td>5.209592</td>\n",
       "      <td>2.028426</td>\n",
       "    </tr>\n",
       "    <tr>\n",
       "      <th>4451</th>\n",
       "      <td>1970</td>\n",
       "      <td>VN</td>\n",
       "      <td>VNM</td>\n",
       "      <td>East Asia &amp; Pacific</td>\n",
       "      <td>NaN</td>\n",
       "      <td>Vietnam</td>\n",
       "      <td>NaN</td>\n",
       "      <td>NaN</td>\n",
       "      <td>NaN</td>\n",
       "      <td>NaN</td>\n",
       "      <td>NaN</td>\n",
       "      <td>NaN</td>\n",
       "      <td>NaN</td>\n",
       "    </tr>\n",
       "    <tr>\n",
       "      <th>4452</th>\n",
       "      <td>1970</td>\n",
       "      <td>YE</td>\n",
       "      <td>YEM</td>\n",
       "      <td>Middle East &amp; North Africa</td>\n",
       "      <td>NaN</td>\n",
       "      <td>Yemen, Rep.</td>\n",
       "      <td>NaN</td>\n",
       "      <td>NaN</td>\n",
       "      <td>NaN</td>\n",
       "      <td>NaN</td>\n",
       "      <td>NaN</td>\n",
       "      <td>NaN</td>\n",
       "      <td>NaN</td>\n",
       "    </tr>\n",
       "    <tr>\n",
       "      <th>4453</th>\n",
       "      <td>1970</td>\n",
       "      <td>ZM</td>\n",
       "      <td>ZMB</td>\n",
       "      <td>Sub-Saharan Africa</td>\n",
       "      <td>NaN</td>\n",
       "      <td>Zambia</td>\n",
       "      <td>4.498763</td>\n",
       "      <td>5.374545</td>\n",
       "      <td>4.472812</td>\n",
       "      <td>5.137395</td>\n",
       "      <td>NaN</td>\n",
       "      <td>5.307952</td>\n",
       "      <td>0.412514</td>\n",
       "    </tr>\n",
       "    <tr>\n",
       "      <th>4454</th>\n",
       "      <td>1970</td>\n",
       "      <td>ZW</td>\n",
       "      <td>ZWE</td>\n",
       "      <td>Sub-Saharan Africa</td>\n",
       "      <td>NaN</td>\n",
       "      <td>Zimbabwe</td>\n",
       "      <td>NaN</td>\n",
       "      <td>NaN</td>\n",
       "      <td>NaN</td>\n",
       "      <td>NaN</td>\n",
       "      <td>NaN</td>\n",
       "      <td>NaN</td>\n",
       "      <td>NaN</td>\n",
       "    </tr>\n",
       "  </tbody>\n",
       "</table>\n",
       "<p>4455 rows × 13 columns</p>\n",
       "</div>"
      ],
      "text/plain": [
       "      Year ISO_Code_2 ISO_Code_3              World Bank Region  \\\n",
       "0     2020         AL        ALB          Europe & Central Asia   \n",
       "1     2020         DZ        DZA     Middle East & North Africa   \n",
       "2     2020         AO        AGO             Sub-Saharan Africa   \n",
       "3     2020         AR        ARG  Latin America & the Caribbean   \n",
       "4     2020         AM        ARM          Europe & Central Asia   \n",
       "...    ...        ...        ...                            ...   \n",
       "4450  1970         VE        VEN  Latin America & the Caribbean   \n",
       "4451  1970         VN        VNM            East Asia & Pacific   \n",
       "4452  1970         YE        YEM     Middle East & North Africa   \n",
       "4453  1970         ZM        ZMB             Sub-Saharan Africa   \n",
       "4454  1970         ZW        ZWE             Sub-Saharan Africa   \n",
       "\n",
       "     World Bank Current Income Classification, 1990-present (L=Low income, LM=Lower middle income, UM=Upper middle income, H=High income)  \\\n",
       "0                                                    UM                                                                                     \n",
       "1                                                    LM                                                                                     \n",
       "2                                                    LM                                                                                     \n",
       "3                                                    UM                                                                                     \n",
       "4                                                    UM                                                                                     \n",
       "...                                                 ...                                                                                     \n",
       "4450                                                NaN                                                                                     \n",
       "4451                                                NaN                                                                                     \n",
       "4452                                                NaN                                                                                     \n",
       "4453                                                NaN                                                                                     \n",
       "4454                                                NaN                                                                                     \n",
       "\n",
       "          Countries  Panel Data Summary Index    Area 1    Area 2    Area 3  \\\n",
       "0           Albania                  7.640000  7.817077  5.260351  9.788269   \n",
       "1           Algeria                  5.120000  4.409943  4.131760  7.630287   \n",
       "2            Angola                  5.910000  8.133385  3.705161  6.087996   \n",
       "3         Argentina                  4.870000  6.483768  4.796454  4.516018   \n",
       "4           Armenia                  7.840000  7.975292  6.236215  9.553009   \n",
       "...             ...                       ...       ...       ...       ...   \n",
       "4450  Venezuela, RB                  7.242943  8.349529  5.003088  9.621851   \n",
       "4451        Vietnam                       NaN       NaN       NaN       NaN   \n",
       "4452    Yemen, Rep.                       NaN       NaN       NaN       NaN   \n",
       "4453         Zambia                  4.498763  5.374545  4.472812  5.137395   \n",
       "4454       Zimbabwe                       NaN       NaN       NaN       NaN   \n",
       "\n",
       "        Area 4    Area 5  Standard Deviation of the 5 EFW Areas  \n",
       "0     8.222499  7.112958                               1.652742  \n",
       "1     3.639507  5.778953                               1.613103  \n",
       "2     5.373190  6.227545                               1.598854  \n",
       "3     3.086907  5.490538                               1.254924  \n",
       "4     7.692708  7.756333                               1.178292  \n",
       "...        ...       ...                                    ...  \n",
       "4450  7.895993  5.209592                               2.028426  \n",
       "4451       NaN       NaN                                    NaN  \n",
       "4452       NaN       NaN                                    NaN  \n",
       "4453       NaN  5.307952                               0.412514  \n",
       "4454       NaN       NaN                                    NaN  \n",
       "\n",
       "[4455 rows x 13 columns]"
      ]
     },
     "execution_count": 82,
     "metadata": {},
     "output_type": "execute_result"
    }
   ],
   "source": [
    "data = pd.read_excel(filename, sheet_name = \"EFW Panel Data 2022 Report\")\n",
    "data"
   ]
  },
  {
   "cell_type": "code",
   "execution_count": 85,
   "id": "aad2df86",
   "metadata": {},
   "outputs": [
    {
     "ename": "TypeError",
     "evalue": "'dict' object is not callable",
     "output_type": "error",
     "traceback": [
      "\u001b[1;31m---------------------------------------------------------------------------\u001b[0m",
      "\u001b[1;31mTypeError\u001b[0m                                 Traceback (most recent call last)",
      "Cell \u001b[1;32mIn[85], line 7\u001b[0m\n\u001b[0;32m      1\u001b[0m rename \u001b[38;5;241m=\u001b[39m {\u001b[38;5;124m\"\u001b[39m\u001b[38;5;124mPanel Data Summary Index\u001b[39m\u001b[38;5;124m\"\u001b[39m: \u001b[38;5;124m\"\u001b[39m\u001b[38;5;124mSummary\u001b[39m\u001b[38;5;124m\"\u001b[39m,\n\u001b[0;32m      2\u001b[0m          \u001b[38;5;124m\"\u001b[39m\u001b[38;5;124mArea 1\u001b[39m\u001b[38;5;124m\"\u001b[39m:\u001b[38;5;124m\"\u001b[39m\u001b[38;5;124mSize of Government\u001b[39m\u001b[38;5;124m\"\u001b[39m,\n\u001b[0;32m      3\u001b[0m          \u001b[38;5;124m\"\u001b[39m\u001b[38;5;124mArea 2\u001b[39m\u001b[38;5;124m\"\u001b[39m:\u001b[38;5;124m\"\u001b[39m\u001b[38;5;124mLegal System and Property Rights\u001b[39m\u001b[38;5;124m\"\u001b[39m,\n\u001b[0;32m      4\u001b[0m          \u001b[38;5;124m\"\u001b[39m\u001b[38;5;124mArea 3\u001b[39m\u001b[38;5;124m\"\u001b[39m:\u001b[38;5;124m\"\u001b[39m\u001b[38;5;124mSound Money\u001b[39m\u001b[38;5;124m\"\u001b[39m,\n\u001b[0;32m      5\u001b[0m          \u001b[38;5;124m\"\u001b[39m\u001b[38;5;124mArea 4\u001b[39m\u001b[38;5;124m\"\u001b[39m:\u001b[38;5;124m\"\u001b[39m\u001b[38;5;124mFreedom to Trade Internationally\u001b[39m\u001b[38;5;124m\"\u001b[39m,\n\u001b[0;32m      6\u001b[0m          \u001b[38;5;124m\"\u001b[39m\u001b[38;5;124mArea 5\u001b[39m\u001b[38;5;124m\"\u001b[39m:\u001b[38;5;124m\"\u001b[39m\u001b[38;5;124mRegulation\u001b[39m\u001b[38;5;124m\"\u001b[39m}\n\u001b[1;32m----> 7\u001b[0m data \u001b[38;5;241m=\u001b[39m \u001b[43mdata\u001b[49m\u001b[38;5;241;43m.\u001b[39;49m\u001b[43mrename\u001b[49m\u001b[43m(\u001b[49m\u001b[43mcolumns\u001b[49m\u001b[43m \u001b[49m\u001b[38;5;241;43m=\u001b[39;49m\u001b[43m \u001b[49m\u001b[43mrename\u001b[49m\u001b[43m)\u001b[49m\n\u001b[0;32m      8\u001b[0m data\n",
      "\u001b[1;31mTypeError\u001b[0m: 'dict' object is not callable"
     ]
    }
   ],
   "source": [
    "rename = {\"Panel Data Summary Index\": \"Summary\",\n",
    "         \"Area 1\":\"Size of Government\",\n",
    "         \"Area 2\":\"Legal System and Property Rights\",\n",
    "         \"Area 3\":\"Sound Money\",\n",
    "         \"Area 4\":\"Freedom to Trade Internationally\",\n",
    "         \"Area 5\":\"Regulation\"}\n",
    "data = data.rename(columns = rename)\n",
    "data"
   ]
  },
  {
   "cell_type": "code",
   "execution_count": null,
   "id": "6e243c72",
   "metadata": {},
   "outputs": [],
   "source": []
  }
 ],
 "metadata": {
  "kernelspec": {
   "display_name": "Python 3 (ipykernel)",
   "language": "python",
   "name": "python3"
  },
  "language_info": {
   "codemirror_mode": {
    "name": "ipython",
    "version": 3
   },
   "file_extension": ".py",
   "mimetype": "text/x-python",
   "name": "python",
   "nbconvert_exporter": "python",
   "pygments_lexer": "ipython3",
   "version": "3.9.13"
  }
 },
 "nbformat": 4,
 "nbformat_minor": 5
}
